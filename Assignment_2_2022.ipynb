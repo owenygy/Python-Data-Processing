{
 "cells": [
  {
   "cell_type": "markdown",
   "metadata": {},
   "source": [
    "<h1 align='center'> COMP2420/COMP6420 - Introduction to Data Management,<br/> Analysis and Security</h1>\n",
    "\n",
    "<h1 align='center'> Assignment - 2 (2022)</h1>\n",
    "\n",
    "-----\n",
    "\n",
    "|**Maximum Marks**         |**100 for COMP2420 and 120 for COMP6420 students**\n",
    "|--------------------------|--------\n",
    "|  **Weight**              |  **15% of the Total Course Grade**\n",
    "|  **Submission deadline** |  **11.59M, Tuesday, May 24th**\n",
    "|  **Submission mode**     |  **Electronic, Using GitLab**\n",
    "|  **Penalty**             |  **100% after the deadline**\n",
    "\n",
    "\n",
    "## Learning Outcomes\n",
    "The following learning outcomes apply to this assignment:\n",
    "- **LO1** - Demonstrate a conceptual understanding of database systems and architecture, data models and declarative query languages\n",
    "- **LO2** - Define, query and manipulate a relational database\n",
    "- **LO3** - Demonstrate basic knowledge and understanding of descriptive and predictive data analysis methods, optimization and search, and knowledge representation.\n",
    "- **LO4** - Formulate and extract descriptive and predictive statistics from data\n",
    "- **LO5** - Analyse and interpret results from descriptive and predictive data analysis\n",
    "- **LO6** - Apply their knowledge to a given problem domain and articulate potential data analysis problems\n",
    "- **LO7** - Identify potential pitfalls, and social and ethical implications of data science\n",
    "- **LO8** - Explain key security concepts and the use of cryptographic techniques, digital signatures and PKI in security\n",
    "\n",
    "\n",
    "## Submission\n",
    "\n",
    "You need to submit the following items:\n",
    "- The notebook `Assignment_2_2022_uXXXXXXX.ipynb` (where uXXXXXXX is your uid) [Please note that if you have to pull from the upstream repo you will need to change the name back first and add your uid after the pull again]\n",
    "- A completed `statement-of-originality.md`, found in the root of the forked gitlab repo.\n",
    "\n",
    "Submissions are performed by pushing to your forked GitLab assignment repository. For a refresher on forking and cloning repositories, please refer to `Lab 1`. Issues with your Git repo (with the exception of a CECS/ANU wide Gitlab failure) will not be considered as grounds for an extension. Any variation of this will result in a `zero mark`.\n",
    "\n",
    "***** \n",
    "\n",
    "### Notes:\n",
    "\n",
    "* It is strongly advised to read the whole assignment before attempting it and have at least a cursory glance at the dataset in order to gauge the requirements and understand what you need to do as a bigger picture.\n",
    "* Backup your assignment to your Gitlab repo often. \n",
    "* Extra reading and research will be required. Make sure you include all references in your Statement of Originality. If this does not occur, at best marks will be deduced. Otherwise, academic misconduct processes will be followed.\n",
    "* For answers requiring free form written text, use the designated cells denoted by `YOUR WRITTEN ANSWER HERE` -- double click on the cell to write inside them. You can change these to Markdown cells where necessary (e.g. you may need to include some figures in your answer).\n",
    "* For all coding questions please write your code after the comment `YOUR CODE HERE`.\n",
    "* In the process of testing your code, you can insert more cells or use print statements for debugging, but when submitting your file remember to remove these cells and calls respectively. You are welcome to add additional cells to the final submission, provided they add value to the overall piece.\n",
    "* Your code answers will be marked on **correctness** and **readability** of your code, if your marker can't understand your code your marks may be deducted. \n",
    "* Your written answers will be marked on the **correctness**, **depth** and **clarity** of your written answers. If your marker cannot understand your answer, marks may be deducted\n",
    "* Before submitting, restart the kernel in Jupiter Lab and re-run all cells before submitting your code. This will ensure the namespace has not kept any old variables, as these won't come across in submission and your code will not run. Without this, you could lose a significant number of marks.\n",
    "\n",
    "*****"
   ]
  },
  {
   "cell_type": "markdown",
   "metadata": {},
   "source": [
    "## Introduction\n",
    "\n",
    "This introduction has been split into three sections, based on the datasets you will be interacting with: **CVSS Data**, **BitcoinHeist**, and **Sakila**.\n",
    "\n",
    "\n",
    "### CVSS Data\n",
    "Sound familiar? We hope so. You are being provided with the same dataset from the assignment 1, with an additional csv file. For a refresher, go check the [about.md](./data/cvss/about.md) file. The provided files are:\n",
    "- cvss_data_complete.csv\n",
    "- cve_configurations_mapping.csv\n",
    "- cwe_capec_mapping.csv\n",
    "\n",
    "\n",
    "### BitcoinHeist\n",
    "We will be using a subset of data from a UCI Machine Learning Repository [dataset](https://archive.ics.uci.edu/ml/datasets/BitcoinHeistRansomwareAddressDataset) that contains parsed Bitcoin transaction graphs from 2009 January to 2018 December. BitcoinHeist dataset contains address features on the heterogeneous Bitcoin network to identify ransomware payments. We will be using this dataset to predict whether a given record is white (i.e., not known to be ransomware) or not (i.e., known to be ransomware).\n",
    "\n",
    "\n",
    "### Sakila\n",
    "To test your SQL muscles, we have provided a database (and the creation scripts) for a sample SQL database called Sakila made available by MySQL under a BSD licence. The Sakila sample database is a fictitious database designed to represent a DVD rental store. The tables of the database include film, film_category, actor, customer, rental, payment and inventory among others.. We have provided the Database diagram in Q3 for reference.\n",
    "\n",
    "Detailed information about the database can be found on the MySQL website: https://dev.mysql.com/doc/sakila/en/\n",
    "\n",
    "\n",
    "#### In summary, you have three (3) datasets to work with in this assignment, broken down as follows:\n",
    "\n",
    "- Question 1 & 4 - CVSS data\n",
    "- Question 2 - BitcoinHeist\n",
    "- Question 3 - Sakila\n",
    "\n",
    "Once again, the CVSS dataset is a sizable dataset, so it is wise to consider your code in terms of complexity to ensure it doesn't take 30 minutes to run a single line.\n",
    "\n",
    "\n",
    "****"
   ]
  },
  {
   "cell_type": "code",
   "execution_count": 83,
   "metadata": {},
   "outputs": [],
   "source": [
    "# Code Imports\n",
    "# Every import is here, you may need to uncomment additional items as necessary.\n",
    "import numpy as np\n",
    "import pandas as pd\n",
    "import matplotlib.pyplot as plt\n",
    "from matplotlib import cm\n",
    "import seaborn as sns\n",
    "import sqlite3\n",
    "from sqlite3 import Error\n",
    "from scipy import stats\n",
    "from sklearn.linear_model import LogisticRegression     # Logistic Regression\n",
    "from sklearn.neighbors import KNeighborsClassifier      # k-Nearest Neighbours\n",
    "from sklearn.preprocessing import LabelEncoder          # encooding variables\n",
    "from sklearn.preprocessing import StandardScaler        # encooding variables\n",
    "from sklearn.model_selection import train_test_split    # testing our models\n",
    "from sklearn.preprocessing import OneHotEncoder         # nominal variable\n",
    "from sklearn.metrics import confusion_matrix            # scoring\n",
    "from sklearn.tree import DecisionTreeClassifier         # decision trees\n",
    "from sklearn.tree import DecisionTreeRegressor          # decision trees\n",
    "from sklearn import tree                                # decision trees\n",
    "from sklearn.decomposition import PCA                   # PCA \n",
    "from sklearn.cluster import KMeans                      # KMeans Clustering\n",
    "from sklearn import metrics                             # metrics"
   ]
  },
  {
   "cell_type": "code",
   "execution_count": 84,
   "metadata": {},
   "outputs": [],
   "source": [
    "# Import additional modules here as required\n",
    "# It is unlikely that you would need any additional modules, however we had added space here just in case you feel \n",
    "#     extras are required. Note that some justification as to WHY you are using them should be provided.\n",
    "#\n",
    "# Note that only modules in the standard Anaconda distribution are allowed. If you need to install it manually, it is not an accepted package.\n",
    "#\n",
    "#\n",
    "from sklearn.metrics import silhouette_score\n",
    "from sklearn.model_selection import cross_val_score\n",
    "from sklearn.model_selection import cross_val_predict\n",
    "from sklearn.metrics import classification_report\n",
    "import hashlib"
   ]
  },
  {
   "cell_type": "markdown",
   "metadata": {},
   "source": [
    "****\n",
    "## Q1: Unsupervised Learning (25 marks for COMP2420, 32 marks for COMP6420)\n",
    "Building off the dataset you initially encountered in Assignment 1, the CVSS dataset has made a return for the following question. Note that while the dataset holds the same schema, the last 4 columns are populated for you in this assignment.\n",
    "\n",
    "The following question is designed to get you to load and process data, and implement a clustering model for the given scenario below. You have been introduced to `KMeans` clustering in the lectures and labs and this would therefore be the assumed clustering method, although you are welcome to supplement this with other clustering methods from the `sklearn` package as you desire.\n",
    "\n",
    "Your scenario is as follows:\n",
    "> Once again, you have assumed the role of a member of a cyber-security team interested in the vulnerability of products. Your procurement team has asked you to develop an unsupervised modelling system (ie: clustering model) to identify software that can be grouped based on their CVSS metrics. You must decide how many groupings (Severity Levels) are appropriate for training the model. <b>The procurement team does not wish to use the Base Scores, Sub Scores and Base Severity as clustering metrics.</b>\n",
    ">\n",
    "> Based on this clustering model, the procurement team will make risk-based decisions to determine whether it is safe to introduce a product to the system.\n",
    "\n",
    "You will first be asked to import and pre-process the data ready to implement a clustering model. Then, you are on your own in the world of clustering. Good luck!"
   ]
  },
  {
   "cell_type": "markdown",
   "metadata": {},
   "source": [
    "### 1.1 Preprocessing\n",
    "To start off, bring in the data and get it ready for clustering. Your tasks are:\n",
    "\n",
    "1. Import the Data. The dataset is available in the location `data/cvss/CVSS_data_complete.csv` <span style= 'float: right;'><b>[1 mark]</b></span>\n",
    "2. Prepare the data for a clustering task. This time you may encounter some missing or invalid values, hence you may have to decide how to tackle these as well. \n",
    "\n",
    "**Note:** While not every part of this section is directly assessed, this preprocessing section includes a number of tasks that will help you in your clustering and data analysis in future questions. </font>"
   ]
  },
  {
   "cell_type": "code",
   "execution_count": 86,
   "metadata": {},
   "outputs": [
    {
     "data": {
      "text/html": [
       "<div>\n",
       "<style scoped>\n",
       "    .dataframe tbody tr th:only-of-type {\n",
       "        vertical-align: middle;\n",
       "    }\n",
       "\n",
       "    .dataframe tbody tr th {\n",
       "        vertical-align: top;\n",
       "    }\n",
       "\n",
       "    .dataframe thead th {\n",
       "        text-align: right;\n",
       "    }\n",
       "</style>\n",
       "<table border=\"1\" class=\"dataframe\">\n",
       "  <thead>\n",
       "    <tr style=\"text-align: right;\">\n",
       "      <th></th>\n",
       "      <th>cve_id</th>\n",
       "      <th>assigner</th>\n",
       "      <th>description</th>\n",
       "      <th>cwe_ids</th>\n",
       "      <th>refs</th>\n",
       "      <th>ref_names</th>\n",
       "      <th>ref_sources</th>\n",
       "      <th>ref_tags</th>\n",
       "      <th>v3_attackVector</th>\n",
       "      <th>v3_attackComplexity</th>\n",
       "      <th>v3_privilegesRequired</th>\n",
       "      <th>v3_userInteraction</th>\n",
       "      <th>v3_scope</th>\n",
       "      <th>v3_confidentialityImpact</th>\n",
       "      <th>v3_integrityImpact</th>\n",
       "      <th>v3_availabilityImpact</th>\n",
       "      <th>v3_baseScore</th>\n",
       "      <th>v3_baseSeverity</th>\n",
       "      <th>v3_exploitabilityScore</th>\n",
       "      <th>v3_impactScore</th>\n",
       "    </tr>\n",
       "  </thead>\n",
       "  <tbody>\n",
       "    <tr>\n",
       "      <th>0</th>\n",
       "      <td>CVE-2020-0002</td>\n",
       "      <td>security@android.com</td>\n",
       "      <td>In ih264d_init_decoder of ih264d_api.c, there ...</td>\n",
       "      <td>CWE-787,CWE-416</td>\n",
       "      <td>https://source.android.com/security/bulletin/2...</td>\n",
       "      <td>https://source.android.com/security/bulletin/2...</td>\n",
       "      <td>CONFIRM</td>\n",
       "      <td>[['Patch', 'Vendor Advisory']]</td>\n",
       "      <td>NETWORK</td>\n",
       "      <td>LOW</td>\n",
       "      <td>NONE</td>\n",
       "      <td>REQUIRED</td>\n",
       "      <td>UNCHANGED</td>\n",
       "      <td>HIGH</td>\n",
       "      <td>HIGH</td>\n",
       "      <td>HIGH</td>\n",
       "      <td>8.8</td>\n",
       "      <td>HIGH</td>\n",
       "      <td>2.8</td>\n",
       "      <td>5.9</td>\n",
       "    </tr>\n",
       "    <tr>\n",
       "      <th>1</th>\n",
       "      <td>CVE-2020-0003</td>\n",
       "      <td>security@android.com</td>\n",
       "      <td>In onCreate of InstallStart.java, there is a p...</td>\n",
       "      <td>CWE-367</td>\n",
       "      <td>https://source.android.com/security/bulletin/2...</td>\n",
       "      <td>https://source.android.com/security/bulletin/2...</td>\n",
       "      <td>CONFIRM</td>\n",
       "      <td>[[]]</td>\n",
       "      <td>LOCAL</td>\n",
       "      <td>HIGH</td>\n",
       "      <td>LOW</td>\n",
       "      <td>REQUIRED</td>\n",
       "      <td>UNCHANGED</td>\n",
       "      <td>HIGH</td>\n",
       "      <td>HIGH</td>\n",
       "      <td>HIGH</td>\n",
       "      <td>6.7</td>\n",
       "      <td>MEDIUM</td>\n",
       "      <td>0.8</td>\n",
       "      <td>5.9</td>\n",
       "    </tr>\n",
       "    <tr>\n",
       "      <th>2</th>\n",
       "      <td>CVE-2020-0005</td>\n",
       "      <td>security@android.com</td>\n",
       "      <td>In btm_read_remote_ext_features_complete of bt...</td>\n",
       "      <td>CWE-787</td>\n",
       "      <td>https://source.android.com/security/bulletin/2...</td>\n",
       "      <td>https://source.android.com/security/bulletin/2...</td>\n",
       "      <td>MISC</td>\n",
       "      <td>[['Patch', 'Vendor Advisory']]</td>\n",
       "      <td>LOCAL</td>\n",
       "      <td>LOW</td>\n",
       "      <td>HIGH</td>\n",
       "      <td>NONE</td>\n",
       "      <td>UNCHANGED</td>\n",
       "      <td>HIGH</td>\n",
       "      <td>HIGH</td>\n",
       "      <td>HIGH</td>\n",
       "      <td>6.7</td>\n",
       "      <td>MEDIUM</td>\n",
       "      <td>0.8</td>\n",
       "      <td>5.9</td>\n",
       "    </tr>\n",
       "    <tr>\n",
       "      <th>3</th>\n",
       "      <td>CVE-2020-0006</td>\n",
       "      <td>security@android.com</td>\n",
       "      <td>In rw_i93_send_cmd_write_single_block of rw_i9...</td>\n",
       "      <td>CWE-908</td>\n",
       "      <td>https://source.android.com/security/bulletin/2...</td>\n",
       "      <td>https://source.android.com/security/bulletin/2...</td>\n",
       "      <td>CONFIRM</td>\n",
       "      <td>[['Patch', 'Vendor Advisory']]</td>\n",
       "      <td>NETWORK</td>\n",
       "      <td>LOW</td>\n",
       "      <td>NONE</td>\n",
       "      <td>REQUIRED</td>\n",
       "      <td>UNCHANGED</td>\n",
       "      <td>HIGH</td>\n",
       "      <td>NONE</td>\n",
       "      <td>NONE</td>\n",
       "      <td>6.5</td>\n",
       "      <td>MEDIUM</td>\n",
       "      <td>2.8</td>\n",
       "      <td>3.6</td>\n",
       "    </tr>\n",
       "    <tr>\n",
       "      <th>4</th>\n",
       "      <td>CVE-2020-0007</td>\n",
       "      <td>security@android.com</td>\n",
       "      <td>In flattenString8 of Sensor.cpp, there is a po...</td>\n",
       "      <td>CWE-908</td>\n",
       "      <td>https://source.android.com/security/bulletin/2...</td>\n",
       "      <td>https://source.android.com/security/bulletin/2...</td>\n",
       "      <td>CONFIRM</td>\n",
       "      <td>[['Vendor Advisory']]</td>\n",
       "      <td>LOCAL</td>\n",
       "      <td>LOW</td>\n",
       "      <td>LOW</td>\n",
       "      <td>NONE</td>\n",
       "      <td>UNCHANGED</td>\n",
       "      <td>HIGH</td>\n",
       "      <td>NONE</td>\n",
       "      <td>NONE</td>\n",
       "      <td>5.5</td>\n",
       "      <td>MEDIUM</td>\n",
       "      <td>1.8</td>\n",
       "      <td>3.6</td>\n",
       "    </tr>\n",
       "  </tbody>\n",
       "</table>\n",
       "</div>"
      ],
      "text/plain": [
       "          cve_id              assigner  \\\n",
       "0  CVE-2020-0002  security@android.com   \n",
       "1  CVE-2020-0003  security@android.com   \n",
       "2  CVE-2020-0005  security@android.com   \n",
       "3  CVE-2020-0006  security@android.com   \n",
       "4  CVE-2020-0007  security@android.com   \n",
       "\n",
       "                                         description          cwe_ids  \\\n",
       "0  In ih264d_init_decoder of ih264d_api.c, there ...  CWE-787,CWE-416   \n",
       "1  In onCreate of InstallStart.java, there is a p...          CWE-367   \n",
       "2  In btm_read_remote_ext_features_complete of bt...          CWE-787   \n",
       "3  In rw_i93_send_cmd_write_single_block of rw_i9...          CWE-908   \n",
       "4  In flattenString8 of Sensor.cpp, there is a po...          CWE-908   \n",
       "\n",
       "                                                refs  \\\n",
       "0  https://source.android.com/security/bulletin/2...   \n",
       "1  https://source.android.com/security/bulletin/2...   \n",
       "2  https://source.android.com/security/bulletin/2...   \n",
       "3  https://source.android.com/security/bulletin/2...   \n",
       "4  https://source.android.com/security/bulletin/2...   \n",
       "\n",
       "                                           ref_names ref_sources  \\\n",
       "0  https://source.android.com/security/bulletin/2...     CONFIRM   \n",
       "1  https://source.android.com/security/bulletin/2...     CONFIRM   \n",
       "2  https://source.android.com/security/bulletin/2...        MISC   \n",
       "3  https://source.android.com/security/bulletin/2...     CONFIRM   \n",
       "4  https://source.android.com/security/bulletin/2...     CONFIRM   \n",
       "\n",
       "                         ref_tags v3_attackVector v3_attackComplexity  \\\n",
       "0  [['Patch', 'Vendor Advisory']]         NETWORK                 LOW   \n",
       "1                            [[]]           LOCAL                HIGH   \n",
       "2  [['Patch', 'Vendor Advisory']]           LOCAL                 LOW   \n",
       "3  [['Patch', 'Vendor Advisory']]         NETWORK                 LOW   \n",
       "4           [['Vendor Advisory']]           LOCAL                 LOW   \n",
       "\n",
       "  v3_privilegesRequired v3_userInteraction   v3_scope  \\\n",
       "0                  NONE           REQUIRED  UNCHANGED   \n",
       "1                   LOW           REQUIRED  UNCHANGED   \n",
       "2                  HIGH               NONE  UNCHANGED   \n",
       "3                  NONE           REQUIRED  UNCHANGED   \n",
       "4                   LOW               NONE  UNCHANGED   \n",
       "\n",
       "  v3_confidentialityImpact v3_integrityImpact v3_availabilityImpact  \\\n",
       "0                     HIGH               HIGH                  HIGH   \n",
       "1                     HIGH               HIGH                  HIGH   \n",
       "2                     HIGH               HIGH                  HIGH   \n",
       "3                     HIGH               NONE                  NONE   \n",
       "4                     HIGH               NONE                  NONE   \n",
       "\n",
       "   v3_baseScore v3_baseSeverity  v3_exploitabilityScore  v3_impactScore  \n",
       "0           8.8            HIGH                     2.8             5.9  \n",
       "1           6.7          MEDIUM                     0.8             5.9  \n",
       "2           6.7          MEDIUM                     0.8             5.9  \n",
       "3           6.5          MEDIUM                     2.8             3.6  \n",
       "4           5.5          MEDIUM                     1.8             3.6  "
      ]
     },
     "execution_count": 86,
     "metadata": {},
     "output_type": "execute_result"
    }
   ],
   "source": [
    "# YOUR CODE HERE\n",
    "cvss = pd.read_csv('data/cvss/CVSS_data_complete.csv')\n",
    "cvss.head()\n",
    "# (ANY ADDITIONAL CELLS AS REQUIRED)"
   ]
  },
  {
   "cell_type": "markdown",
   "metadata": {},
   "source": [
    "### 1.2 Building a Clustering Model\n",
    "\n",
    "Clustering helps visualise a dataset based on attributes considered important to the data scientist and/or reader.  Using the **CVSS Dataset** above, implement a `K-Means clustering algorithm` to cluster the dataset by using either all or a subset of the available features (except the Base Scores, Sub Scores and Base Severity). You are expected to reduce the dataset to either 2 or 3 dimensions.  After you have prepared your learning model, plot a **2D or 3D visualisation** showing the different clusters. \n",
    "\n",
    "It is up to you to decide how many clusters you would like to incorporate in your model. You are expected to **verbally and visually** justify your implementation, including the reasoning behind the choice of **the number of clusters** in your model. \n",
    "<span style= 'float: right;'><b>[10 marks]</b></span>"
   ]
  },
  {
   "cell_type": "code",
   "execution_count": 87,
   "metadata": {},
   "outputs": [
    {
     "data": {
      "text/plain": [
       "<AxesSubplot:>"
      ]
     },
     "execution_count": 87,
     "metadata": {},
     "output_type": "execute_result"
    },
    {
     "data": {
      "image/png": "[encoded data removed]",
      "text/plain": [
       "<Figure size 432x288 with 1 Axes>"
      ]
     },
     "metadata": {
      "needs_background": "light"
     },
     "output_type": "display_data"
    }
   ],
   "source": [
    "# YOUR CODE HERE\n",
    "\n",
    "# Find the relative features\n",
    "cvss_encode = cvss.copy()\n",
    "for col in cvss_encode.columns:\n",
    "    if 'score' in col.lower():\n",
    "        continue\n",
    "    cvss_encode[col] = pd.factorize(cvss_encode[col])[0]\n",
    "    \n",
    "cvss_encode.corr().loc['v3_baseScore'].abs().plot(kind='bar')\n",
    "# (ANY ADDITIONAL CELLS AS REQUIRED)"
   ]
  },
  {
   "cell_type": "code",
   "execution_count": 88,
   "metadata": {},
   "outputs": [
    {
     "data": {
      "text/plain": [
       "Text(0.5, 0, 'n_clusters')"
      ]
     },
     "execution_count": 88,
     "metadata": {},
     "output_type": "execute_result"
    },
    {
     "data": {
      "image/png": "[encoded data removed]",
      "text/plain": [
       "<Figure size 432x288 with 1 Axes>"
      ]
     },
     "metadata": {
      "needs_background": "light"
     },
     "output_type": "display_data"
    }
   ],
   "source": [
    "# except the Base Scores, Sub Scores and Base Severity\n",
    "important_features = ['v3_attackVector', 'v3_attackComplexity',\n",
    "                      'v3_privilegesRequired', 'v3_userInteraction', 'v3_scope',\n",
    "                      'v3_confidentialityImpact', 'v3_integrityImpact', 'v3_availabilityImpact']\n",
    "\n",
    "# Use silhouette to find the number of clusters\n",
    "silhouette_score_list = []\n",
    "for candidate_cluster in range(2, 7):\n",
    "    cluster = KMeans(n_clusters=candidate_cluster)\n",
    "    result_list = cluster.fit_predict(cvss_encode[important_features])\n",
    "    score = silhouette_score(cvss_encode[important_features], result_list)\n",
    "    silhouette_score_list.append(score)\n",
    "\n",
    "plt.plot(range(2, 7), silhouette_score_list)\n",
    "plt.ylabel('silhouette_score')\n",
    "plt.xlabel('n_clusters')"
   ]
  },
  {
   "cell_type": "raw",
   "metadata": {},
   "source": [
    "# YOUR WRITTEN ANSWER HERE\n",
    "By the correlation of the fields, some attributes that are most relevant to v3_baseScore can be filtered out. Then the scores, sub-scores and base severity are removed and the important attributes are selected to complete the clustering operation.\n",
    "\n",
    "The effectiveness of the clustering result is measured by the Silhouette Coefficient. when the number of clusters is selected as 2, the value of Silhouette Coefficient is the largest, indicating that the number of clusters should be selected as 2."
   ]
  },
  {
   "cell_type": "markdown",
   "metadata": {},
   "source": [
    "### 1.3 Analysing the Clusters\n",
    "With your clustering model complete, analyse the outputs in preparation for showing the results to the procurement team. Your tasks are as follows:"
   ]
  },
  {
   "cell_type": "markdown",
   "metadata": {},
   "source": [
    "#### 1.3.1 Comparison of summary statistics between clusters\n",
    "1. Display and compare the mean of the CVSS Base Score, between all clusters in your model. \n",
    "2. Identify and explain the largest differences in metrics (including the mean of the CVSS Base Scores) between the clusters using a suitable summary statistic(s). (i.e. what are the defining characteristics of a cluster compared to other cluster(s)?)\n",
    "\n",
    "<span style= 'float: right;'><b>[5 marks]</b></span>"
   ]
  },
  {
   "cell_type": "code",
   "execution_count": 89,
   "metadata": {},
   "outputs": [
    {
     "data": {
      "text/plain": [
       "<AxesSubplot:xlabel='cluster'>"
      ]
     },
     "execution_count": 89,
     "metadata": {},
     "output_type": "execute_result"
    },
    {
     "data": {
      "image/png": "[encoded data removed]",
      "text/plain": [
       "<Figure size 432x288 with 1 Axes>"
      ]
     },
     "metadata": {
      "needs_background": "light"
     },
     "output_type": "display_data"
    }
   ],
   "source": [
    "# YOUR CODE HERE\n",
    "cluster = KMeans(n_clusters=2)\n",
    "cvss['cluster'] = cluster.fit_predict(cvss_encode[important_features])\n",
    "\n",
    "# Display and compare the mean of the CVSS Base Score, between all clusters\n",
    "cvss.groupby(['cluster']).mean().plot(kind='bar')\n",
    "# (ANY ADDITIONAL CELLS AS REQUIRED)"
   ]
  },
  {
   "cell_type": "raw",
   "metadata": {},
   "source": [
    "# YOUR WRITTEN ANSWER HERE\n",
    "From the plot above, it can be seen that the largest differences in metrics is v3_impactScore."
   ]
  },
  {
   "cell_type": "markdown",
   "metadata": {},
   "source": [
    "#### 1.3.2 Visual exploration of the distribution of Base Scores between clusters\n",
    "(a) Visualise the distribution of the CVSS Base Score between each cluster. \n",
    "\n",
    "\n",
    "(b) Answer the following: Without the use of a hypothesis test, does the CVSS Base Score appear to differ significantly between these clusters? (You may reference the previous question (a) rather than reproducing answers)\n",
    "\n",
    "<span style= 'float: right;'><b>[4 marks]</b></span>"
   ]
  },
  {
   "cell_type": "code",
   "execution_count": 90,
   "metadata": {},
   "outputs": [
    {
     "data": {
      "text/plain": [
       "<Figure size 432x288 with 0 Axes>"
      ]
     },
     "execution_count": 90,
     "metadata": {},
     "output_type": "execute_result"
    },
    {
     "data": {
      "image/png": "[encoded data removed]",
      "text/plain": [
       "<Figure size 432x288 with 1 Axes>"
      ]
     },
     "metadata": {
      "needs_background": "light"
     },
     "output_type": "display_data"
    },
    {
     "data": {
      "text/plain": [
       "<Figure size 432x288 with 0 Axes>"
      ]
     },
     "metadata": {},
     "output_type": "display_data"
    }
   ],
   "source": [
    "# YOUR CODE HERE\n",
    "\n",
    "# Visualise the distribution of the CVSS Base Score between each cluster\n",
    "sns.kdeplot(x='v3_baseScore', data=cvss, hue='cluster', fill = True)\n",
    "plt.figure()\n",
    "# (ANY ADDITIONAL CELLS AS REQUIRED)"
   ]
  },
  {
   "cell_type": "raw",
   "metadata": {},
   "source": [
    "# YOUR WRITTEN ANSWER HERE\n",
    "From the visualised distribution of the CVSS Base Score between each cluster, it can be seen that the v3_baseScore is significantly different, as the density histogram shows the two distributions basically do not intersect."
   ]
  },
  {
   "cell_type": "markdown",
   "metadata": {},
   "source": [
    "### 1.4 Comparing our model prediction based on Base Severity values\n",
    "Do the cluster labels accurately categorise the Base Severity? Since you know the actual Base Severity classification values for this dataset, can you now compare the model predictions with the actual Base Severity values?\n",
    "\n",
    "<b>HINT</b>: Present the Base Severity counts of the clusters found by the model like we did in Lab 06\n",
    "OR plot the actual Base Severity groups and predicted clusters side by side \n",
    "\n",
    "<b>NOTE</b>: The number of unique Base Severity groups and the number of clusters in your trained model may be different.\n",
    "<span style= 'float: right;'><b>[5 marks]</b></span>"
   ]
  },
  {
   "cell_type": "raw",
   "metadata": {},
   "source": [
    "# YOUR WRITTEN ANSWER HERE\n",
    "Through statistics, it can be found that the v3_baseSeverity mode of the first clustered sample is HIGH, and the second clustered sample is MEDIUM.\n",
    "\n",
    "cluster labels accurately categorise the Base Severity is (3401 + 2637) / 9210. The accuracy rate is close to 66%."
   ]
  },
  {
   "cell_type": "code",
   "execution_count": 91,
   "metadata": {},
   "outputs": [
    {
     "data": {
      "text/plain": [
       "cluster  v3_baseSeverity\n",
       "0        HIGH               3401\n",
       "         CRITICAL           1630\n",
       "         MEDIUM             1323\n",
       "         LOW                   2\n",
       "1        MEDIUM             2637\n",
       "         LOW                 146\n",
       "         HIGH                 69\n",
       "         CRITICAL              2\n",
       "Name: v3_baseSeverity, dtype: int64"
      ]
     },
     "execution_count": 91,
     "metadata": {},
     "output_type": "execute_result"
    }
   ],
   "source": [
    "# YOUR CODE HERE\n",
    "cvss.groupby('cluster')['v3_baseSeverity'].value_counts()\n",
    "# (ANY ADDITIONAL CELLS AS REQUIRED)"
   ]
  },
  {
   "cell_type": "markdown",
   "metadata": {},
   "source": [
    "### 1.5 Convincing the Procurement Team (for COMP6420 students only)\n",
    "(a) With your evidence and analysis points well defined, it is now time to present your model and findings to the procurement team. Based on your findings, do you recommend the model in its current state or not? provide your reasoning. \n",
    "\n",
    "(b) Explain how this model could be used when they are determining what software should be purchased. Include an example of one of more imaginary products in your explanation, and how you can use this product's features to make a prediction from your trained model.\n",
    "<span style= 'float: right;'><b>[7 marks]</b></span>"
   ]
  },
  {
   "cell_type": "code",
   "execution_count": 92,
   "metadata": {},
   "outputs": [],
   "source": [
    "# YOUR CODE HERE\n",
    "\n",
    "# (ANY ADDITIONAL CELLS AS REQUIRED)"
   ]
  },
  {
   "cell_type": "raw",
   "metadata": {},
   "source": [
    "# YOUR WRITTEN ANSWER HERE\n"
   ]
  },
  {
   "cell_type": "markdown",
   "metadata": {},
   "source": [
    "*****\n",
    "## Q2: Classifciation using k-nearest neighbors and decision trees (20 marks for COMP2420, 28 marks for COMP6420)\n",
    "In this question we are using a subset of data from a UCI Machine Learning Repository [dataset](https://archive.ics.uci.edu/ml/datasets/BitcoinHeistRansomwareAddressDataset) that contains parsed Bitcoin transaction graphs from 2009 January to 2018 December.  The BitcoinHeist dataset contains address features on the heterogeneous Bitcoin network to identify ransomware payments. The dataset contains the following features.\n",
    "\n",
    "| Column Name    | Description    |\n",
    "| :------------- | :------------- |\n",
    "| address (String) | Bitcoin address |\n",
    "| year (Integer) | Year |\n",
    "| day (Integer) | Day of the year. 1 is the first day, 365 is the last day |\n",
    "| length (Integer) | Length is designed to quantify mixing rounds on Bitcoin, where transactions receive and distribute similar amounts of coins in multiple rounds with newly created addresses to hide the coin origin. |\n",
    "| weight (Float) |  Weight quantifies the merge behavior (i.e., the transaction has more input addresses than output addresses), where coins in multiple addresses are each passed through a succession of merging transactions and accumulated in a final address. |\n",
    "| count (Integer) | Similar to weight, the count feature is designed to quantify the merging pattern. However, the count feature represents information on the number of transactions, whereas the weight feature represents information on the amount (what percent of these transactions output?) of transactions. |\n",
    "| looped (Integer) | Loop is intended to count how many transaction i) split their coins; ii) move these coins in the network by using different paths and finally, and iii) merge them in a single address. Coins at this final address can then be sold and converted to flat currency. |\n",
    "| neighbors (Integer) | Indicates the number of neighbors a transaction had. |\n",
    "| income  (Integer) | Satoshi amount (1 bitcoin = 100 million satoshis).\n",
    "| label (Category String) | Name of the ransomware family (e.g., Cryptxxx, cryptolocker etc) or white (i.e., not known to be ransomware) |\n",
    "\n",
    "\n",
    "<b>Reference</b>: BitcoinHeist: Topological Data Analysis for Ransomware Detection on the Bitcoin Blockchain. Akcora, Cuneyt Gurcan and Li, Yitao and Gel, Yulia R and Kantarcioglu, Murat. [arXiv preprint](arxiv:1906.07852). 2019\n",
    "\n",
    "In this question, you are asked to predict whether a given record is **ransom** (i.e., known to be ransomware) or **white** (i.e., not known to be ransomware). For this purpose, we'll ask you to train two classification models (namely, k-nearest neighbors and decision trees). You are also expected to do an experiment on a range of hyperparameters for your models. Later, you will be comparing the performance of the two models.\n",
    "\n",
    "HINT: \n",
    "- For comparing two models on the same dataset, we'll usually keep the same train-test split of the dataset. \n",
    "- You are also strongly encouraged to use cross validation to choose the hyperparameters of the two models.\n"
   ]
  },
  {
   "cell_type": "markdown",
   "metadata": {},
   "source": [
    "### 2.1: Load and process the data\n",
    "Your first task is to load and pre-process the data for the classifciation task. Remember that we are asking you to predict whether a given record is ransom (i.e., known to be ransomware).\n",
    "\n",
    "The data to be loaded is found in `data/BitcoinHeistDataSample.csv`. \n",
    "<span style= 'float: right;'><b>[1 mark]</b></span>"
   ]
  },
  {
   "cell_type": "code",
   "execution_count": 93,
   "metadata": {},
   "outputs": [
    {
     "data": {
      "text/html": [
       "<div>\n",
       "<style scoped>\n",
       "    .dataframe tbody tr th:only-of-type {\n",
       "        vertical-align: middle;\n",
       "    }\n",
       "\n",
       "    .dataframe tbody tr th {\n",
       "        vertical-align: top;\n",
       "    }\n",
       "\n",
       "    .dataframe thead th {\n",
       "        text-align: right;\n",
       "    }\n",
       "</style>\n",
       "<table border=\"1\" class=\"dataframe\">\n",
       "  <thead>\n",
       "    <tr style=\"text-align: right;\">\n",
       "      <th></th>\n",
       "      <th>address</th>\n",
       "      <th>year</th>\n",
       "      <th>day</th>\n",
       "      <th>length</th>\n",
       "      <th>weight</th>\n",
       "      <th>count</th>\n",
       "      <th>looped</th>\n",
       "      <th>neighbors</th>\n",
       "      <th>income</th>\n",
       "      <th>label</th>\n",
       "    </tr>\n",
       "  </thead>\n",
       "  <tbody>\n",
       "    <tr>\n",
       "      <th>0</th>\n",
       "      <td>18uMmC74nRJdWUEHxbDJgm8VWMteQN68S1</td>\n",
       "      <td>2014</td>\n",
       "      <td>2</td>\n",
       "      <td>38</td>\n",
       "      <td>0.166997</td>\n",
       "      <td>9</td>\n",
       "      <td>0</td>\n",
       "      <td>1</td>\n",
       "      <td>3.778000e+07</td>\n",
       "      <td>white</td>\n",
       "    </tr>\n",
       "    <tr>\n",
       "      <th>1</th>\n",
       "      <td>16ucAymaXwPpMVdXtA4FE9sWQH7RrK4P8v</td>\n",
       "      <td>2014</td>\n",
       "      <td>105</td>\n",
       "      <td>144</td>\n",
       "      <td>6.129424</td>\n",
       "      <td>1906</td>\n",
       "      <td>1889</td>\n",
       "      <td>16</td>\n",
       "      <td>3.291332e+10</td>\n",
       "      <td>paduaCryptoWall</td>\n",
       "    </tr>\n",
       "    <tr>\n",
       "      <th>2</th>\n",
       "      <td>1HwKwCYZHZZnGAn6t6pRUPVtq71mPwGTXc</td>\n",
       "      <td>2012</td>\n",
       "      <td>17</td>\n",
       "      <td>0</td>\n",
       "      <td>1.000000</td>\n",
       "      <td>1</td>\n",
       "      <td>0</td>\n",
       "      <td>1</td>\n",
       "      <td>1.100000e+09</td>\n",
       "      <td>white</td>\n",
       "    </tr>\n",
       "    <tr>\n",
       "      <th>3</th>\n",
       "      <td>1MsCsEPC43GC3j2GA96nV36NysKX747tE</td>\n",
       "      <td>2014</td>\n",
       "      <td>172</td>\n",
       "      <td>144</td>\n",
       "      <td>0.680399</td>\n",
       "      <td>853</td>\n",
       "      <td>771</td>\n",
       "      <td>2</td>\n",
       "      <td>2.130000e+09</td>\n",
       "      <td>paduaCryptoWall</td>\n",
       "    </tr>\n",
       "    <tr>\n",
       "      <th>4</th>\n",
       "      <td>15Jjgw3fjg2H2KkZjKZrPHP2hHautmdWaf</td>\n",
       "      <td>2017</td>\n",
       "      <td>23</td>\n",
       "      <td>144</td>\n",
       "      <td>0.012218</td>\n",
       "      <td>3880</td>\n",
       "      <td>0</td>\n",
       "      <td>2</td>\n",
       "      <td>4.213180e+07</td>\n",
       "      <td>white</td>\n",
       "    </tr>\n",
       "  </tbody>\n",
       "</table>\n",
       "</div>"
      ],
      "text/plain": [
       "                              address  year  day  length    weight  count  \\\n",
       "0  18uMmC74nRJdWUEHxbDJgm8VWMteQN68S1  2014    2      38  0.166997      9   \n",
       "1  16ucAymaXwPpMVdXtA4FE9sWQH7RrK4P8v  2014  105     144  6.129424   1906   \n",
       "2  1HwKwCYZHZZnGAn6t6pRUPVtq71mPwGTXc  2012   17       0  1.000000      1   \n",
       "3   1MsCsEPC43GC3j2GA96nV36NysKX747tE  2014  172     144  0.680399    853   \n",
       "4  15Jjgw3fjg2H2KkZjKZrPHP2hHautmdWaf  2017   23     144  0.012218   3880   \n",
       "\n",
       "   looped  neighbors        income            label  \n",
       "0       0          1  3.778000e+07            white  \n",
       "1    1889         16  3.291332e+10  paduaCryptoWall  \n",
       "2       0          1  1.100000e+09            white  \n",
       "3     771          2  2.130000e+09  paduaCryptoWall  \n",
       "4       0          2  4.213180e+07            white  "
      ]
     },
     "execution_count": 93,
     "metadata": {},
     "output_type": "execute_result"
    }
   ],
   "source": [
    "# YOUR CODE HERE\n",
    "bitcoin = pd.read_csv('data/BitcoinHeistDataSample.csv')\n",
    "bitcoin.head()\n",
    "# (ANY ADDITIONAL CELLS AS REQUIRED)"
   ]
  },
  {
   "cell_type": "code",
   "execution_count": 94,
   "metadata": {},
   "outputs": [
    {
     "data": {
      "text/html": [
       "<div>\n",
       "<style scoped>\n",
       "    .dataframe tbody tr th:only-of-type {\n",
       "        vertical-align: middle;\n",
       "    }\n",
       "\n",
       "    .dataframe tbody tr th {\n",
       "        vertical-align: top;\n",
       "    }\n",
       "\n",
       "    .dataframe thead th {\n",
       "        text-align: right;\n",
       "    }\n",
       "</style>\n",
       "<table border=\"1\" class=\"dataframe\">\n",
       "  <thead>\n",
       "    <tr style=\"text-align: right;\">\n",
       "      <th></th>\n",
       "      <th>year</th>\n",
       "      <th>day</th>\n",
       "      <th>length</th>\n",
       "      <th>weight</th>\n",
       "      <th>count</th>\n",
       "      <th>looped</th>\n",
       "      <th>neighbors</th>\n",
       "      <th>income</th>\n",
       "    </tr>\n",
       "    <tr>\n",
       "      <th>label</th>\n",
       "      <th></th>\n",
       "      <th></th>\n",
       "      <th></th>\n",
       "      <th></th>\n",
       "      <th></th>\n",
       "      <th></th>\n",
       "      <th></th>\n",
       "      <th></th>\n",
       "    </tr>\n",
       "  </thead>\n",
       "  <tbody>\n",
       "    <tr>\n",
       "      <th>ransom</th>\n",
       "      <td>2014.852</td>\n",
       "      <td>179.117</td>\n",
       "      <td>41.9444</td>\n",
       "      <td>0.604457</td>\n",
       "      <td>602.9014</td>\n",
       "      <td>92.9176</td>\n",
       "      <td>2.0792</td>\n",
       "      <td>7.286362e+08</td>\n",
       "    </tr>\n",
       "    <tr>\n",
       "      <th>white</th>\n",
       "      <td>2014.490</td>\n",
       "      <td>182.659</td>\n",
       "      <td>46.2500</td>\n",
       "      <td>0.527626</td>\n",
       "      <td>751.5506</td>\n",
       "      <td>250.1536</td>\n",
       "      <td>2.1558</td>\n",
       "      <td>4.131394e+09</td>\n",
       "    </tr>\n",
       "  </tbody>\n",
       "</table>\n",
       "</div>"
      ],
      "text/plain": [
       "            year      day   length    weight     count    looped  neighbors  \\\n",
       "label                                                                         \n",
       "ransom  2014.852  179.117  41.9444  0.604457  602.9014   92.9176     2.0792   \n",
       "white   2014.490  182.659  46.2500  0.527626  751.5506  250.1536     2.1558   \n",
       "\n",
       "              income  \n",
       "label                 \n",
       "ransom  7.286362e+08  \n",
       "white   4.131394e+09  "
      ]
     },
     "execution_count": 94,
     "metadata": {},
     "output_type": "execute_result"
    }
   ],
   "source": [
    "bitcoin.loc[bitcoin['label'] != 'white', 'label'] = 'ransom'\n",
    "bitcoin.groupby('label').mean()"
   ]
  },
  {
   "cell_type": "code",
   "execution_count": 95,
   "metadata": {},
   "outputs": [
    {
     "data": {
      "text/plain": [
       "label   address                           \n",
       "ransom  1LXrSb67EaH1LGc6d6kWHq8rgv4ZBQAcpU    59\n",
       "        16cVG72goMe4sNqZhnpmnqfCMZ1uSFbUit    32\n",
       "        12YursV58dRT2c9iuZg3jEWfwgTDamBcnd    27\n",
       "        12wQZTDmA8onM3sEt4jwcvzDxnNXxD8Vza    27\n",
       "        1CVWpTNwNYGdKgZRohiiVFrnFNbw8anG9     26\n",
       "                                              ..\n",
       "white   3QuMFpN7J5fH82MAy2KM2TwgFxSCQVNTxF     1\n",
       "        3QuzV3zAYBJdGAeco8z4VfQpQxNRWZ7a3m     1\n",
       "        3Qvz2tiZ4urHdyGHqxbpwPApnCdLYuz9zE     1\n",
       "        3QxN68PSsejN5yKW68VzhEZLvzCWev3eBm     1\n",
       "        3QyXQqTx63rYrZMA3CuMi1Yt2BSR6ywsRf     1\n",
       "Name: address, Length: 8411, dtype: int64"
      ]
     },
     "execution_count": 95,
     "metadata": {},
     "output_type": "execute_result"
    }
   ],
   "source": [
    "bitcoin.groupby('label')['address'].value_counts()"
   ]
  },
  {
   "cell_type": "code",
   "execution_count": 96,
   "metadata": {},
   "outputs": [],
   "source": [
    "bitcoin['address'] = pd.factorize(bitcoin['address'])[0]"
   ]
  },
  {
   "cell_type": "raw",
   "metadata": {},
   "source": [
    "# YOUR WRITTEN ANSWER HERE\n",
    "I performed basic statistics on the dataset, then transformed the labels and encoded the addresses."
   ]
  },
  {
   "cell_type": "markdown",
   "metadata": {},
   "source": [
    "### 2.2 Data Analysis and Visualisation\n",
    " \n",
    "We are interested in looking at how the volume of **ransom** and **white** data points differ across the years in this sample dataset. Your task is to come up with a suitable plot to visualise this and comment on your observations.\n",
    "\n",
    "**NOTE**: The dataset is a sub-set of the original dataset that is not representative of the real spread between the actual labels. Hence, the conclusions we can reach based on the above plot may not hold for the full dataset, which is out of scope for this question.\n",
    "<span style= 'float: right;'><b>[4 marks]</b></span>"
   ]
  },
  {
   "cell_type": "code",
   "execution_count": 97,
   "metadata": {},
   "outputs": [
    {
     "data": {
      "text/html": [
       "<div>\n",
       "<style scoped>\n",
       "    .dataframe tbody tr th:only-of-type {\n",
       "        vertical-align: middle;\n",
       "    }\n",
       "\n",
       "    .dataframe tbody tr th {\n",
       "        vertical-align: top;\n",
       "    }\n",
       "\n",
       "    .dataframe thead th {\n",
       "        text-align: right;\n",
       "    }\n",
       "</style>\n",
       "<table border=\"1\" class=\"dataframe\">\n",
       "  <thead>\n",
       "    <tr style=\"text-align: right;\">\n",
       "      <th></th>\n",
       "      <th>year</th>\n",
       "      <th>label</th>\n",
       "      <th>count</th>\n",
       "    </tr>\n",
       "  </thead>\n",
       "  <tbody>\n",
       "    <tr>\n",
       "      <th>0</th>\n",
       "      <td>2011</td>\n",
       "      <td>ransom</td>\n",
       "      <td>13</td>\n",
       "    </tr>\n",
       "    <tr>\n",
       "      <th>1</th>\n",
       "      <td>2011</td>\n",
       "      <td>white</td>\n",
       "      <td>601</td>\n",
       "    </tr>\n",
       "    <tr>\n",
       "      <th>2</th>\n",
       "      <td>2012</td>\n",
       "      <td>ransom</td>\n",
       "      <td>92</td>\n",
       "    </tr>\n",
       "    <tr>\n",
       "      <th>3</th>\n",
       "      <td>2012</td>\n",
       "      <td>white</td>\n",
       "      <td>591</td>\n",
       "    </tr>\n",
       "    <tr>\n",
       "      <th>4</th>\n",
       "      <td>2013</td>\n",
       "      <td>ransom</td>\n",
       "      <td>954</td>\n",
       "    </tr>\n",
       "  </tbody>\n",
       "</table>\n",
       "</div>"
      ],
      "text/plain": [
       "   year   label  count\n",
       "0  2011  ransom     13\n",
       "1  2011   white    601\n",
       "2  2012  ransom     92\n",
       "3  2012   white    591\n",
       "4  2013  ransom    954"
      ]
     },
     "execution_count": 97,
     "metadata": {},
     "output_type": "execute_result"
    }
   ],
   "source": [
    "# YOUR CODE HERE\n",
    "year_count = bitcoin.groupby(['year', 'label'])['address'].count().reset_index()\n",
    "year_count.columns = ['year', 'label', 'count']\n",
    "year_count.head()\n",
    "# (ANY ADDITIONAL CELLS AS REQUIRED)"
   ]
  },
  {
   "cell_type": "code",
   "execution_count": 98,
   "metadata": {},
   "outputs": [
    {
     "data": {
      "text/plain": [
       "<AxesSubplot:xlabel='year', ylabel='count'>"
      ]
     },
     "execution_count": 98,
     "metadata": {},
     "output_type": "execute_result"
    },
    {
     "data": {
      "image/png": "[encoded data removed]",
      "text/plain": [
       "<Figure size 432x288 with 1 Axes>"
      ]
     },
     "metadata": {
      "needs_background": "light"
     },
     "output_type": "display_data"
    }
   ],
   "source": [
    "sns.lineplot(x='year', y='count', hue='label', data=year_count)"
   ]
  },
  {
   "cell_type": "raw",
   "metadata": {},
   "source": [
    "# YOUR WRITTEN ANSWER HERE\n",
    "I counted the labels for each year and visualized them by year. It can be seen from the figure that the annual number of white data is basically stable, but the annual fluctuation of ransom data is relatively large."
   ]
  },
  {
   "cell_type": "markdown",
   "metadata": {},
   "source": [
    "### 2.3: Classification using k-Nearest Neighbors\n",
    "Train a KNN model using this dataset to predict whether a given record is ransom (i.e., known to be ransomware).\n",
    "- How did you prepare the dataset for this task?\n",
    "- How many neighbors k, did you use for your model? What are the values of the other hyperparameters of your model? \n",
    "- How did you decide on the hyper-parameters of your model? \n",
    "- Print the validation, training and testing scores for your model\n",
    "<span style= 'float: right;'><b>[6 marks]</b></span>"
   ]
  },
  {
   "cell_type": "code",
   "execution_count": 99,
   "metadata": {},
   "outputs": [
    {
     "data": {
      "text/plain": [
       "Text(0, 0.5, 'cross validation accuracy')"
      ]
     },
     "execution_count": 99,
     "metadata": {},
     "output_type": "execute_result"
    },
    {
     "data": {
      "image/png": "[encoded data removed]",
      "text/plain": [
       "<Figure size 432x288 with 1 Axes>"
      ]
     },
     "metadata": {
      "needs_background": "light"
     },
     "output_type": "display_data"
    }
   ],
   "source": [
    "# YOUR CODE HERE\n",
    "hist_score = []\n",
    "for k in range(3, 21, 2):\n",
    "    clf = KNeighborsClassifier(n_neighbors=k)\n",
    "    pred = cross_val_score(clf, bitcoin.drop('label', axis=1), bitcoin['label'], cv=5)\n",
    "    hist_score.append(np.mean(pred))\n",
    "    \n",
    "plt.plot(range(3, 21, 2), hist_score)\n",
    "plt.xlabel('n_neighbors')\n",
    "plt.ylabel('cross validation accuracy')\n",
    "# (ANY ADDITIONAL CELLS AS REQUIRED)"
   ]
  },
  {
   "cell_type": "raw",
   "metadata": {},
   "source": [
    "# YOUR WRITTEN ANSWER HERE\n",
    "The number of nearest neighbor samples directly affects the accuracy of the KNN model.\n",
    "I performed a grid search and found that the model has the highest accuracy when the value of k is 13.\n",
    "The accuracy of the model is determined on average by 5-fold cross-validation, so it has good stability and reliability."
   ]
  },
  {
   "cell_type": "markdown",
   "metadata": {},
   "source": [
    "### 2.4: Classification using Decision trees\n",
    "Train a Decision Tree model using this dataset to predict whether a given record is ransom (i.e., known to be ransomware).\n",
    "- How did you prepare the dataset for this task?\n",
    "- What are the hyperparameters of your model?\n",
    "- How did you decide on the hyperparameters for your model? \n",
    "- Visualise the decision tree that you trained (display the tree in the notebook, you may optionally save this as a figure; If you save the tree as a figure, you should include the figure in the `img` folder, and import it into a markdown box in your notebook. You can use the command `![tree.png](./img/tree.png)` where `tree.png` is the name of your figure.)\n",
    "- Print the validation, training and testing scores for your model\n",
    "<span style= 'float: right;'><b>[6 marks]</b></span>"
   ]
  },
  {
   "cell_type": "code",
   "execution_count": 100,
   "metadata": {},
   "outputs": [
    {
     "data": {
      "text/html": [
       "<div>\n",
       "<style scoped>\n",
       "    .dataframe tbody tr th:only-of-type {\n",
       "        vertical-align: middle;\n",
       "    }\n",
       "\n",
       "    .dataframe tbody tr th {\n",
       "        vertical-align: top;\n",
       "    }\n",
       "\n",
       "    .dataframe thead th {\n",
       "        text-align: right;\n",
       "    }\n",
       "</style>\n",
       "<table border=\"1\" class=\"dataframe\">\n",
       "  <thead>\n",
       "    <tr style=\"text-align: right;\">\n",
       "      <th></th>\n",
       "      <th>min_samples_split</th>\n",
       "      <th>min_samples_leaf</th>\n",
       "      <th>accuracy</th>\n",
       "    </tr>\n",
       "  </thead>\n",
       "  <tbody>\n",
       "    <tr>\n",
       "      <th>0</th>\n",
       "      <td>2</td>\n",
       "      <td>2</td>\n",
       "      <td>0.7103</td>\n",
       "    </tr>\n",
       "    <tr>\n",
       "      <th>1</th>\n",
       "      <td>2</td>\n",
       "      <td>3</td>\n",
       "      <td>0.7122</td>\n",
       "    </tr>\n",
       "    <tr>\n",
       "      <th>2</th>\n",
       "      <td>2</td>\n",
       "      <td>4</td>\n",
       "      <td>0.7140</td>\n",
       "    </tr>\n",
       "    <tr>\n",
       "      <th>3</th>\n",
       "      <td>2</td>\n",
       "      <td>5</td>\n",
       "      <td>0.7247</td>\n",
       "    </tr>\n",
       "    <tr>\n",
       "      <th>4</th>\n",
       "      <td>2</td>\n",
       "      <td>6</td>\n",
       "      <td>0.7250</td>\n",
       "    </tr>\n",
       "  </tbody>\n",
       "</table>\n",
       "</div>"
      ],
      "text/plain": [
       "   min_samples_split  min_samples_leaf  accuracy\n",
       "0                  2                 2    0.7103\n",
       "1                  2                 3    0.7122\n",
       "2                  2                 4    0.7140\n",
       "3                  2                 5    0.7247\n",
       "4                  2                 6    0.7250"
      ]
     },
     "execution_count": 100,
     "metadata": {},
     "output_type": "execute_result"
    }
   ],
   "source": [
    "# YOUR CODE HERE\n",
    "hist_score = []\n",
    "for min_samples_split in range(2, 10):\n",
    "    for min_samples_leaf in range(2, 10):\n",
    "        clf = DecisionTreeClassifier(min_samples_split=min_samples_split, \n",
    "                                    min_samples_leaf=min_samples_leaf)\n",
    "        pred = cross_val_score(clf, bitcoin.drop('label', axis=1), bitcoin['label'], cv=5)\n",
    "        hist_score.append([min_samples_split, min_samples_leaf, np.mean(pred)])\n",
    "        \n",
    "hist_score = pd.DataFrame(hist_score)\n",
    "hist_score.columns = ['min_samples_split', 'min_samples_leaf', 'accuracy']\n",
    "hist_score.head()\n",
    "# (ANY ADDITIONAL CELLS AS REQUIRED)"
   ]
  },
  {
   "cell_type": "code",
   "execution_count": 101,
   "metadata": {},
   "outputs": [
    {
     "data": {
      "text/html": [
       "<div>\n",
       "<style scoped>\n",
       "    .dataframe tbody tr th:only-of-type {\n",
       "        vertical-align: middle;\n",
       "    }\n",
       "\n",
       "    .dataframe tbody tr th {\n",
       "        vertical-align: top;\n",
       "    }\n",
       "\n",
       "    .dataframe thead th {\n",
       "        text-align: right;\n",
       "    }\n",
       "</style>\n",
       "<table border=\"1\" class=\"dataframe\">\n",
       "  <thead>\n",
       "    <tr style=\"text-align: right;\">\n",
       "      <th></th>\n",
       "      <th>min_samples_split</th>\n",
       "      <th>min_samples_leaf</th>\n",
       "      <th>accuracy</th>\n",
       "    </tr>\n",
       "  </thead>\n",
       "  <tbody>\n",
       "    <tr>\n",
       "      <th>22</th>\n",
       "      <td>4</td>\n",
       "      <td>8</td>\n",
       "      <td>0.7305</td>\n",
       "    </tr>\n",
       "  </tbody>\n",
       "</table>\n",
       "</div>"
      ],
      "text/plain": [
       "    min_samples_split  min_samples_leaf  accuracy\n",
       "22                  4                 8    0.7305"
      ]
     },
     "execution_count": 101,
     "metadata": {},
     "output_type": "execute_result"
    }
   ],
   "source": [
    "hist_score.sort_values(by='accuracy').tail(1)"
   ]
  },
  {
   "cell_type": "code",
   "execution_count": 102,
   "metadata": {},
   "outputs": [
    {
     "data": {
      "text/plain": [
       "<matplotlib.legend.Legend at 0x21c82294640>"
      ]
     },
     "execution_count": 102,
     "metadata": {},
     "output_type": "execute_result"
    },
    {
     "data": {
      "image/png": "[encoded data removed]",
      "text/plain": [
       "<Figure size 432x288 with 1 Axes>"
      ]
     },
     "metadata": {
      "needs_background": "light"
     },
     "output_type": "display_data"
    }
   ],
   "source": [
    "sns.scatterplot(x='min_samples_split', y='min_samples_leaf', size='accuracy', data=hist_score)\n",
    "plt.legend(loc='center left', bbox_to_anchor=(1, 0.5))"
   ]
  },
  {
   "cell_type": "code",
   "execution_count": 103,
   "metadata": {},
   "outputs": [
    {
     "data": {
      "image/png": "[encoded data removed]",
      "text/plain": [
       "<Figure size 864x1368 with 1 Axes>"
      ]
     },
     "metadata": {
      "needs_background": "light"
     },
     "output_type": "display_data"
    }
   ],
   "source": [
    "clf = DecisionTreeClassifier(min_samples_split=2,  max_depth=4,\n",
    "                                    min_samples_leaf=6)\n",
    "clf.fit(bitcoin.drop('label', axis=1), bitcoin['label'])\n",
    "\n",
    "plt.figure(figsize=(12, 19))\n",
    "tree.plot_tree(clf, fontsize=10, filled=True)\n",
    "plt.show()"
   ]
  },
  {
   "cell_type": "raw",
   "metadata": {},
   "source": [
    "# YOUR WRITTEN ANSWER HERE\n",
    "I choose to perform a parametric search on min_samples_split and min_samples_leaf, and use the validation set to record the final accuracy of the model. The optimal hyperparameters are min_samples_split=2, min_samples_leaf=8.\n",
    "\n",
    "- min_samples_split, default=2, The minimum number of samples required to split an internal node.\n",
    "- min_samples_leaf, default=1, The minimum number of samples required to be at a leaf node. "
   ]
  },
  {
   "cell_type": "markdown",
   "metadata": {},
   "source": [
    "### 2.5: Model comparision\n",
    "Compare the performance of the two models that you trained in 2.3 and 2.4. \n",
    "- Include the Confusion Matrix, Accuracy, Precision, Recall and F1-scores in your comparision.\n",
    "- Which model is better based on the metrics you obtained? \n",
    "- Discuss the performance of the two models in terms of the False Negatives and False Positives (assume that we consider False Negatives (incorrectly classifying a ransom record as white) are more harmful than False Positives (incorrectly classifying white record as ransom))\n",
    "<span style= 'float: right;'><b>[3 marks]</b></span>"
   ]
  },
  {
   "cell_type": "code",
   "execution_count": 104,
   "metadata": {},
   "outputs": [
    {
     "name": "stdout",
     "output_type": "stream",
     "text": [
      "              precision    recall  f1-score   support\n",
      "\n",
      "      ransom       0.70      0.62      0.66      5000\n",
      "       white       0.66      0.73      0.69      5000\n",
      "\n",
      "    accuracy                           0.68     10000\n",
      "   macro avg       0.68      0.68      0.67     10000\n",
      "weighted avg       0.68      0.68      0.67     10000\n",
      "\n",
      "[[3117 1883]\n",
      " [1367 3633]]\n"
     ]
    },
    {
     "data": {
      "text/plain": [
       "(3117, 1883, 1367, 3633)"
      ]
     },
     "execution_count": 104,
     "metadata": {},
     "output_type": "execute_result"
    }
   ],
   "source": [
    "# YOUR CODE HERE\n",
    "knn_predict = cross_val_predict(\n",
    "    KNeighborsClassifier(n_neighbors=13),\n",
    "    bitcoin.drop('label', axis=1), bitcoin['label'], cv=5\n",
    ")\n",
    "\n",
    "tree_predict = cross_val_predict(\n",
    "    DecisionTreeClassifier(min_samples_split=2,\n",
    "                          min_samples_leaf=8),\n",
    "    bitcoin.drop('label', axis=1), bitcoin['label'], cv=5\n",
    ")\n",
    "\n",
    "print(\n",
    "    classification_report(bitcoin['label'], knn_predict)\n",
    ")\n",
    "print(\n",
    "    confusion_matrix(bitcoin['label'], knn_predict)\n",
    ")\n",
    "\n",
    "tn, fp, fn, tp = confusion_matrix(bitcoin['label'], knn_predict).ravel()\n",
    "tn, fp, fn, tp\n",
    "# (ANY ADDITIONAL CELLS AS REQUIRED)"
   ]
  },
  {
   "cell_type": "code",
   "execution_count": 105,
   "metadata": {},
   "outputs": [
    {
     "name": "stdout",
     "output_type": "stream",
     "text": [
      "              precision    recall  f1-score   support\n",
      "\n",
      "      ransom       0.68      0.89      0.77      5000\n",
      "       white       0.84      0.57      0.68      5000\n",
      "\n",
      "    accuracy                           0.73     10000\n",
      "   macro avg       0.76      0.73      0.73     10000\n",
      "weighted avg       0.76      0.73      0.73     10000\n",
      "\n",
      "[[4455  545]\n",
      " [2133 2867]]\n"
     ]
    },
    {
     "data": {
      "text/plain": [
       "(4455, 545, 2133, 2867)"
      ]
     },
     "execution_count": 105,
     "metadata": {},
     "output_type": "execute_result"
    }
   ],
   "source": [
    "print(\n",
    "    classification_report(bitcoin['label'], tree_predict)\n",
    ")\n",
    "print(\n",
    "    confusion_matrix(bitcoin['label'], tree_predict)\n",
    ")\n",
    "\n",
    "tn, fp, fn, tp = confusion_matrix(bitcoin['label'], tree_predict).ravel()\n",
    "tn, fp, fn, tp"
   ]
  },
  {
   "cell_type": "raw",
   "metadata": {},
   "source": [
    "# YOUR WRITTEN ANSWER HERE\n",
    "By comparing the accuracy of the models, it can be seen that the accuracy of the tree model is due to KNN. But there is a difference between the two models in the confusion matrix, and the tree model has fewer False Negatives than KNN."
   ]
  },
  {
   "cell_type": "markdown",
   "metadata": {},
   "source": [
    "### 2.6: Dealing with unbalanced datasets (for COMP6420 students only)\n",
    "In the original dataset, we have a larger number of **white** records than **ransom**, as expected.  To be exact, 2875284 of the 2916697 rows in the original dataset represented records not known to be ransomware. \n",
    "\n",
    "Briefly state how you would deal with such unbalanaced datasets in classification problems. Give at least two techniques that can be applied. You may refer techniques that can be applied to other classification models as well (i.e. you don't have to limit your answer to techniques that can be applied to k-nearest neighbors and decision trees). Don't forget to give your references.\n",
    "<span style= 'float: right;'><b>[8 marks]</b></span>"
   ]
  },
  {
   "cell_type": "raw",
   "metadata": {},
   "source": [
    "# YOUR WRITTEN ANSWER HERE\n"
   ]
  },
  {
   "cell_type": "markdown",
   "metadata": {},
   "source": [
    "*****\n",
    "## Q3: Serious SQL (20 marks for COMP2420, 25 marks for COMP6420)\n",
    "Consider the following scenario.\n",
    "\n",
    "> You are applying for a job as a database developer for an unnamed wrestling company. Part of the job description includes creating an automation system for running SQL queries. During the hiring process, the interviewers want to ensure you understand the SQL language. They have provided a set of questions to be answered by you, and your responses will later be reviewed by them. They are unwilling to give you access to their real database (which is mysteriously missing), so they have provided an SQLite3 database and asked you to interact with it using Python. \n",
    "\n",
    "\n",
    "Based on the above scenario, you have been asked to answer a number of questions to test your skills. You will be using the _Sakila_ database for this question. The database model is as follows:\n",
    "\n",
    "![sakila](./img/SQLite3_Sakila_Sample_Database_ERD.png)\n",
    "\n",
    "In the following questions, you will be asked to execute the SQL statements, and explain any reasoning as necessary. Answers to each sub-question should be obtained by a single SQL query **only**.  Data can be formatted as raw printed output or a Pandas DataFrame. \n",
    "\n",
    "**Note**: There may be slight discrepancies between the above figure and the loaded database."
   ]
  },
  {
   "cell_type": "code",
   "execution_count": 106,
   "metadata": {},
   "outputs": [
    {
     "name": "stdout",
     "output_type": "stream",
     "text": [
      "Connection established!\n"
     ]
    }
   ],
   "source": [
    "# THIS IS YOUR CONNECTION BLOCK, DO NOT MODIFY THIS. \n",
    "# OTHERWISE, YOU WILL NOT BE ABLE TO READ THE DATABASE\n",
    "def create_connection(db_file):\n",
    "    \"\"\" Connect to the specified SQLite database, if not exist, create a new one;\n",
    "    :db_file: location of db to connect to\n",
    "    :return: Connection object or None\n",
    "    \"\"\"\n",
    "    conn = None\n",
    "    try:\n",
    "        conn = sqlite3.connect(db_file)\n",
    "        print(\"Connection established!\")\n",
    "        \n",
    "    except Error as e:\n",
    "        print(\"Error Connecting to Database\")\n",
    "        raise(e)\n",
    "    return conn\n",
    "\n",
    "sakila_db = 'data/sqlite-sakila.db'\n",
    "conn = create_connection(sakila_db) \n",
    "cur = conn.cursor()\n",
    "# remember to close the connection when everything is done"
   ]
  },
  {
   "cell_type": "markdown",
   "metadata": {},
   "source": [
    "### 3.1: Names of the tables\n",
    "List the names of the tables found in this database.\n",
    "<span style= 'float: right;'><b>[2 marks]</b></span>"
   ]
  },
  {
   "cell_type": "code",
   "execution_count": 107,
   "metadata": {},
   "outputs": [
    {
     "data": {
      "text/html": [
       "<div>\n",
       "<style scoped>\n",
       "    .dataframe tbody tr th:only-of-type {\n",
       "        vertical-align: middle;\n",
       "    }\n",
       "\n",
       "    .dataframe tbody tr th {\n",
       "        vertical-align: top;\n",
       "    }\n",
       "\n",
       "    .dataframe thead th {\n",
       "        text-align: right;\n",
       "    }\n",
       "</style>\n",
       "<table border=\"1\" class=\"dataframe\">\n",
       "  <thead>\n",
       "    <tr style=\"text-align: right;\">\n",
       "      <th></th>\n",
       "      <th>name</th>\n",
       "    </tr>\n",
       "  </thead>\n",
       "  <tbody>\n",
       "    <tr>\n",
       "      <th>0</th>\n",
       "      <td>actor</td>\n",
       "    </tr>\n",
       "    <tr>\n",
       "      <th>1</th>\n",
       "      <td>country</td>\n",
       "    </tr>\n",
       "    <tr>\n",
       "      <th>2</th>\n",
       "      <td>city</td>\n",
       "    </tr>\n",
       "    <tr>\n",
       "      <th>3</th>\n",
       "      <td>address</td>\n",
       "    </tr>\n",
       "    <tr>\n",
       "      <th>4</th>\n",
       "      <td>language</td>\n",
       "    </tr>\n",
       "    <tr>\n",
       "      <th>5</th>\n",
       "      <td>category</td>\n",
       "    </tr>\n",
       "    <tr>\n",
       "      <th>6</th>\n",
       "      <td>customer</td>\n",
       "    </tr>\n",
       "    <tr>\n",
       "      <th>7</th>\n",
       "      <td>film</td>\n",
       "    </tr>\n",
       "    <tr>\n",
       "      <th>8</th>\n",
       "      <td>film_actor</td>\n",
       "    </tr>\n",
       "    <tr>\n",
       "      <th>9</th>\n",
       "      <td>film_category</td>\n",
       "    </tr>\n",
       "    <tr>\n",
       "      <th>10</th>\n",
       "      <td>film_text</td>\n",
       "    </tr>\n",
       "    <tr>\n",
       "      <th>11</th>\n",
       "      <td>inventory</td>\n",
       "    </tr>\n",
       "    <tr>\n",
       "      <th>12</th>\n",
       "      <td>staff</td>\n",
       "    </tr>\n",
       "    <tr>\n",
       "      <th>13</th>\n",
       "      <td>store</td>\n",
       "    </tr>\n",
       "    <tr>\n",
       "      <th>14</th>\n",
       "      <td>payment</td>\n",
       "    </tr>\n",
       "    <tr>\n",
       "      <th>15</th>\n",
       "      <td>rental</td>\n",
       "    </tr>\n",
       "    <tr>\n",
       "      <th>16</th>\n",
       "      <td>capec_mapping</td>\n",
       "    </tr>\n",
       "    <tr>\n",
       "      <th>17</th>\n",
       "      <td>ref</td>\n",
       "    </tr>\n",
       "    <tr>\n",
       "      <th>18</th>\n",
       "      <td>configurations_mapping</td>\n",
       "    </tr>\n",
       "    <tr>\n",
       "      <th>19</th>\n",
       "      <td>cvss_data_complete</td>\n",
       "    </tr>\n",
       "    <tr>\n",
       "      <th>20</th>\n",
       "      <td>capecmapping</td>\n",
       "    </tr>\n",
       "  </tbody>\n",
       "</table>\n",
       "</div>"
      ],
      "text/plain": [
       "                      name\n",
       "0                    actor\n",
       "1                  country\n",
       "2                     city\n",
       "3                  address\n",
       "4                 language\n",
       "5                 category\n",
       "6                 customer\n",
       "7                     film\n",
       "8               film_actor\n",
       "9            film_category\n",
       "10               film_text\n",
       "11               inventory\n",
       "12                   staff\n",
       "13                   store\n",
       "14                 payment\n",
       "15                  rental\n",
       "16           capec_mapping\n",
       "17                     ref\n",
       "18  configurations_mapping\n",
       "19      cvss_data_complete\n",
       "20            capecmapping"
      ]
     },
     "execution_count": 107,
     "metadata": {},
     "output_type": "execute_result"
    }
   ],
   "source": [
    "# YOUR CODE HERE\n",
    "pd.read_sql(\n",
    "'''\n",
    "SELECT \n",
    "    name\n",
    "FROM \n",
    "    sqlite_schema\n",
    "WHERE \n",
    "    type ='table' \n",
    "''', conn)"
   ]
  },
  {
   "cell_type": "raw",
   "metadata": {},
   "source": [
    "# YOUR WRITTEN ANSWER HERE\n",
    "Name of the 16 tables are listed above."
   ]
  },
  {
   "cell_type": "markdown",
   "metadata": {},
   "source": [
    "### 3.2: Number of Customers\n",
    "List the number of customers in the database.\n",
    "<span style= 'float: right;'><b>[2 marks]</b></span>"
   ]
  },
  {
   "cell_type": "code",
   "execution_count": 108,
   "metadata": {},
   "outputs": [
    {
     "data": {
      "text/html": [
       "<div>\n",
       "<style scoped>\n",
       "    .dataframe tbody tr th:only-of-type {\n",
       "        vertical-align: middle;\n",
       "    }\n",
       "\n",
       "    .dataframe tbody tr th {\n",
       "        vertical-align: top;\n",
       "    }\n",
       "\n",
       "    .dataframe thead th {\n",
       "        text-align: right;\n",
       "    }\n",
       "</style>\n",
       "<table border=\"1\" class=\"dataframe\">\n",
       "  <thead>\n",
       "    <tr style=\"text-align: right;\">\n",
       "      <th></th>\n",
       "      <th>number of customers</th>\n",
       "    </tr>\n",
       "  </thead>\n",
       "  <tbody>\n",
       "    <tr>\n",
       "      <th>0</th>\n",
       "      <td>599</td>\n",
       "    </tr>\n",
       "  </tbody>\n",
       "</table>\n",
       "</div>"
      ],
      "text/plain": [
       "   number of customers \n",
       "0                   599"
      ]
     },
     "execution_count": 108,
     "metadata": {},
     "output_type": "execute_result"
    }
   ],
   "source": [
    "# YOUR CODE HERE\n",
    "pd.read_sql(\n",
    "'''\n",
    "SELECT \n",
    "    COUNT(*) AS 'number of customers '\n",
    "FROM \n",
    "    customer;\n",
    "''', conn)"
   ]
  },
  {
   "cell_type": "raw",
   "metadata": {},
   "source": [
    "# YOUR WRITTEN ANSWER HERE\n",
    "599 customers in the database"
   ]
  },
  {
   "cell_type": "markdown",
   "metadata": {},
   "source": [
    "### 3.3: Films with PG rating\n",
    "What are the titles and descriptions of films with a PG rating?\n",
    "<span style= 'float: right;'><b>[2 marks]</b></span>"
   ]
  },
  {
   "cell_type": "code",
   "execution_count": 109,
   "metadata": {},
   "outputs": [
    {
     "data": {
      "text/html": [
       "<div>\n",
       "<style scoped>\n",
       "    .dataframe tbody tr th:only-of-type {\n",
       "        vertical-align: middle;\n",
       "    }\n",
       "\n",
       "    .dataframe tbody tr th {\n",
       "        vertical-align: top;\n",
       "    }\n",
       "\n",
       "    .dataframe thead th {\n",
       "        text-align: right;\n",
       "    }\n",
       "</style>\n",
       "<table border=\"1\" class=\"dataframe\">\n",
       "  <thead>\n",
       "    <tr style=\"text-align: right;\">\n",
       "      <th></th>\n",
       "      <th>title</th>\n",
       "      <th>description</th>\n",
       "    </tr>\n",
       "  </thead>\n",
       "  <tbody>\n",
       "    <tr>\n",
       "      <th>0</th>\n",
       "      <td>ACADEMY DINOSAUR</td>\n",
       "      <td>A Epic Drama of a Feminist And a Mad Scientist...</td>\n",
       "    </tr>\n",
       "    <tr>\n",
       "      <th>1</th>\n",
       "      <td>AGENT TRUMAN</td>\n",
       "      <td>A Intrepid Panorama of a Robot And a Boy who m...</td>\n",
       "    </tr>\n",
       "    <tr>\n",
       "      <th>2</th>\n",
       "      <td>ALASKA PHANTOM</td>\n",
       "      <td>A Fanciful Saga of a Hunter And a Pastry Chef ...</td>\n",
       "    </tr>\n",
       "    <tr>\n",
       "      <th>3</th>\n",
       "      <td>ALI FOREVER</td>\n",
       "      <td>A Action-Packed Drama of a Dentist And a Croco...</td>\n",
       "    </tr>\n",
       "    <tr>\n",
       "      <th>4</th>\n",
       "      <td>AMADEUS HOLY</td>\n",
       "      <td>A Emotional Display of a Pioneer And a Technic...</td>\n",
       "    </tr>\n",
       "    <tr>\n",
       "      <th>...</th>\n",
       "      <td>...</td>\n",
       "      <td>...</td>\n",
       "    </tr>\n",
       "    <tr>\n",
       "      <th>189</th>\n",
       "      <td>WIZARD COLDBLOODED</td>\n",
       "      <td>A Lacklusture Display of a Robot And a Girl wh...</td>\n",
       "    </tr>\n",
       "    <tr>\n",
       "      <th>190</th>\n",
       "      <td>WON DARES</td>\n",
       "      <td>A Unbelieveable Documentary of a Teacher And a...</td>\n",
       "    </tr>\n",
       "    <tr>\n",
       "      <th>191</th>\n",
       "      <td>WONDERLAND CHRISTMAS</td>\n",
       "      <td>A Awe-Inspiring Character Study of a Waitress ...</td>\n",
       "    </tr>\n",
       "    <tr>\n",
       "      <th>192</th>\n",
       "      <td>WORDS HUNTER</td>\n",
       "      <td>A Action-Packed Reflection of a Composer And a...</td>\n",
       "    </tr>\n",
       "    <tr>\n",
       "      <th>193</th>\n",
       "      <td>WORST BANGER</td>\n",
       "      <td>A Thrilling Drama of a Madman And a Dentist wh...</td>\n",
       "    </tr>\n",
       "  </tbody>\n",
       "</table>\n",
       "<p>194 rows × 2 columns</p>\n",
       "</div>"
      ],
      "text/plain": [
       "                    title                                        description\n",
       "0        ACADEMY DINOSAUR  A Epic Drama of a Feminist And a Mad Scientist...\n",
       "1            AGENT TRUMAN  A Intrepid Panorama of a Robot And a Boy who m...\n",
       "2          ALASKA PHANTOM  A Fanciful Saga of a Hunter And a Pastry Chef ...\n",
       "3             ALI FOREVER  A Action-Packed Drama of a Dentist And a Croco...\n",
       "4            AMADEUS HOLY  A Emotional Display of a Pioneer And a Technic...\n",
       "..                    ...                                                ...\n",
       "189    WIZARD COLDBLOODED  A Lacklusture Display of a Robot And a Girl wh...\n",
       "190             WON DARES  A Unbelieveable Documentary of a Teacher And a...\n",
       "191  WONDERLAND CHRISTMAS  A Awe-Inspiring Character Study of a Waitress ...\n",
       "192          WORDS HUNTER  A Action-Packed Reflection of a Composer And a...\n",
       "193          WORST BANGER  A Thrilling Drama of a Madman And a Dentist wh...\n",
       "\n",
       "[194 rows x 2 columns]"
      ]
     },
     "execution_count": 109,
     "metadata": {},
     "output_type": "execute_result"
    }
   ],
   "source": [
    "# YOUR CODE HERE\n",
    "pd.read_sql(\n",
    "'''\n",
    "SELECT title, description\n",
    "FROM \n",
    "    film\n",
    "WHERE rating='PG';\n",
    "''', conn)"
   ]
  },
  {
   "cell_type": "raw",
   "metadata": {},
   "source": [
    "# YOUR WRITTEN ANSWER HERE\n",
    "The 194 titles and descriptions of films with a PG rating are listed above."
   ]
  },
  {
   "cell_type": "markdown",
   "metadata": {},
   "source": [
    "### 3.4: Films by category\n",
    "What are the counts of films for each category in the database? Display the category names with the number of films in each category.\n",
    "<span style= 'float: right;'><b>[4 marks]</b></span>"
   ]
  },
  {
   "cell_type": "code",
   "execution_count": 110,
   "metadata": {},
   "outputs": [
    {
     "data": {
      "text/html": [
       "<div>\n",
       "<style scoped>\n",
       "    .dataframe tbody tr th:only-of-type {\n",
       "        vertical-align: middle;\n",
       "    }\n",
       "\n",
       "    .dataframe tbody tr th {\n",
       "        vertical-align: top;\n",
       "    }\n",
       "\n",
       "    .dataframe thead th {\n",
       "        text-align: right;\n",
       "    }\n",
       "</style>\n",
       "<table border=\"1\" class=\"dataframe\">\n",
       "  <thead>\n",
       "    <tr style=\"text-align: right;\">\n",
       "      <th></th>\n",
       "      <th>COUNT(*)</th>\n",
       "      <th>name</th>\n",
       "    </tr>\n",
       "  </thead>\n",
       "  <tbody>\n",
       "    <tr>\n",
       "      <th>0</th>\n",
       "      <td>64</td>\n",
       "      <td>Action</td>\n",
       "    </tr>\n",
       "    <tr>\n",
       "      <th>1</th>\n",
       "      <td>66</td>\n",
       "      <td>Animation</td>\n",
       "    </tr>\n",
       "    <tr>\n",
       "      <th>2</th>\n",
       "      <td>60</td>\n",
       "      <td>Children</td>\n",
       "    </tr>\n",
       "    <tr>\n",
       "      <th>3</th>\n",
       "      <td>57</td>\n",
       "      <td>Classics</td>\n",
       "    </tr>\n",
       "    <tr>\n",
       "      <th>4</th>\n",
       "      <td>58</td>\n",
       "      <td>Comedy</td>\n",
       "    </tr>\n",
       "    <tr>\n",
       "      <th>5</th>\n",
       "      <td>68</td>\n",
       "      <td>Documentary</td>\n",
       "    </tr>\n",
       "    <tr>\n",
       "      <th>6</th>\n",
       "      <td>62</td>\n",
       "      <td>Drama</td>\n",
       "    </tr>\n",
       "    <tr>\n",
       "      <th>7</th>\n",
       "      <td>69</td>\n",
       "      <td>Family</td>\n",
       "    </tr>\n",
       "    <tr>\n",
       "      <th>8</th>\n",
       "      <td>73</td>\n",
       "      <td>Foreign</td>\n",
       "    </tr>\n",
       "    <tr>\n",
       "      <th>9</th>\n",
       "      <td>61</td>\n",
       "      <td>Games</td>\n",
       "    </tr>\n",
       "    <tr>\n",
       "      <th>10</th>\n",
       "      <td>56</td>\n",
       "      <td>Horror</td>\n",
       "    </tr>\n",
       "    <tr>\n",
       "      <th>11</th>\n",
       "      <td>51</td>\n",
       "      <td>Music</td>\n",
       "    </tr>\n",
       "    <tr>\n",
       "      <th>12</th>\n",
       "      <td>63</td>\n",
       "      <td>New</td>\n",
       "    </tr>\n",
       "    <tr>\n",
       "      <th>13</th>\n",
       "      <td>61</td>\n",
       "      <td>Sci-Fi</td>\n",
       "    </tr>\n",
       "    <tr>\n",
       "      <th>14</th>\n",
       "      <td>74</td>\n",
       "      <td>Sports</td>\n",
       "    </tr>\n",
       "    <tr>\n",
       "      <th>15</th>\n",
       "      <td>57</td>\n",
       "      <td>Travel</td>\n",
       "    </tr>\n",
       "  </tbody>\n",
       "</table>\n",
       "</div>"
      ],
      "text/plain": [
       "    COUNT(*)         name\n",
       "0         64       Action\n",
       "1         66    Animation\n",
       "2         60     Children\n",
       "3         57     Classics\n",
       "4         58       Comedy\n",
       "5         68  Documentary\n",
       "6         62        Drama\n",
       "7         69       Family\n",
       "8         73      Foreign\n",
       "9         61        Games\n",
       "10        56       Horror\n",
       "11        51        Music\n",
       "12        63          New\n",
       "13        61       Sci-Fi\n",
       "14        74       Sports\n",
       "15        57       Travel"
      ]
     },
     "execution_count": 110,
     "metadata": {},
     "output_type": "execute_result"
    }
   ],
   "source": [
    "# YOUR CODE HERE\n",
    "pd.read_sql(\n",
    "'''\n",
    "SELECT COUNT(*), category.name\n",
    "    FROM film\n",
    "    LEFT JOIN film_category ON film.film_id = film_category.film_id\n",
    "    LEFT JOIN category ON category.category_id = film_category.category_id\n",
    "GROUP BY film_category.category_id;\n",
    "''', conn)"
   ]
  },
  {
   "cell_type": "raw",
   "metadata": {},
   "source": [
    "# YOUR WRITTEN ANSWER HERE\n",
    "16 categories of the films and their counts are listed above. Merge category and film_category."
   ]
  },
  {
   "cell_type": "markdown",
   "metadata": {},
   "source": [
    "### 3.5: Most rented\n",
    "Find the details of the top film in the database as measured by the most number of rentals.\n",
    "<span style= 'float: right;'><b>[4 marks]</b></span>"
   ]
  },
  {
   "cell_type": "code",
   "execution_count": 111,
   "metadata": {},
   "outputs": [
    {
     "data": {
      "text/html": [
       "<div>\n",
       "<style scoped>\n",
       "    .dataframe tbody tr th:only-of-type {\n",
       "        vertical-align: middle;\n",
       "    }\n",
       "\n",
       "    .dataframe tbody tr th {\n",
       "        vertical-align: top;\n",
       "    }\n",
       "\n",
       "    .dataframe thead th {\n",
       "        text-align: right;\n",
       "    }\n",
       "</style>\n",
       "<table border=\"1\" class=\"dataframe\">\n",
       "  <thead>\n",
       "    <tr style=\"text-align: right;\">\n",
       "      <th></th>\n",
       "      <th>film_id</th>\n",
       "      <th>title</th>\n",
       "      <th>release_year</th>\n",
       "      <th>COUNT(rental_id)</th>\n",
       "    </tr>\n",
       "  </thead>\n",
       "  <tbody>\n",
       "    <tr>\n",
       "      <th>0</th>\n",
       "      <td>103</td>\n",
       "      <td>BUCKET BROTHERHOOD</td>\n",
       "      <td>2006</td>\n",
       "      <td>34</td>\n",
       "    </tr>\n",
       "    <tr>\n",
       "      <th>1</th>\n",
       "      <td>738</td>\n",
       "      <td>ROCKETEER MOTHER</td>\n",
       "      <td>2006</td>\n",
       "      <td>33</td>\n",
       "    </tr>\n",
       "    <tr>\n",
       "      <th>2</th>\n",
       "      <td>767</td>\n",
       "      <td>SCALAWAG DUCK</td>\n",
       "      <td>2006</td>\n",
       "      <td>32</td>\n",
       "    </tr>\n",
       "    <tr>\n",
       "      <th>3</th>\n",
       "      <td>730</td>\n",
       "      <td>RIDGEMONT SUBMARINE</td>\n",
       "      <td>2006</td>\n",
       "      <td>32</td>\n",
       "    </tr>\n",
       "    <tr>\n",
       "      <th>4</th>\n",
       "      <td>489</td>\n",
       "      <td>JUGGLER HARDLY</td>\n",
       "      <td>2006</td>\n",
       "      <td>32</td>\n",
       "    </tr>\n",
       "    <tr>\n",
       "      <th>...</th>\n",
       "      <td>...</td>\n",
       "      <td>...</td>\n",
       "      <td>...</td>\n",
       "      <td>...</td>\n",
       "    </tr>\n",
       "    <tr>\n",
       "      <th>953</th>\n",
       "      <td>107</td>\n",
       "      <td>BUNCH MINDS</td>\n",
       "      <td>2006</td>\n",
       "      <td>5</td>\n",
       "    </tr>\n",
       "    <tr>\n",
       "      <th>954</th>\n",
       "      <td>94</td>\n",
       "      <td>BRAVEHEART HUMAN</td>\n",
       "      <td>2006</td>\n",
       "      <td>5</td>\n",
       "    </tr>\n",
       "    <tr>\n",
       "      <th>955</th>\n",
       "      <td>904</td>\n",
       "      <td>TRAIN BUNCH</td>\n",
       "      <td>2006</td>\n",
       "      <td>4</td>\n",
       "    </tr>\n",
       "    <tr>\n",
       "      <th>956</th>\n",
       "      <td>584</td>\n",
       "      <td>MIXED DOORS</td>\n",
       "      <td>2006</td>\n",
       "      <td>4</td>\n",
       "    </tr>\n",
       "    <tr>\n",
       "      <th>957</th>\n",
       "      <td>400</td>\n",
       "      <td>HARDLY ROBBERS</td>\n",
       "      <td>2006</td>\n",
       "      <td>4</td>\n",
       "    </tr>\n",
       "  </tbody>\n",
       "</table>\n",
       "<p>958 rows × 4 columns</p>\n",
       "</div>"
      ],
      "text/plain": [
       "     film_id                title release_year  COUNT(rental_id)\n",
       "0        103   BUCKET BROTHERHOOD         2006                34\n",
       "1        738     ROCKETEER MOTHER         2006                33\n",
       "2        767        SCALAWAG DUCK         2006                32\n",
       "3        730  RIDGEMONT SUBMARINE         2006                32\n",
       "4        489       JUGGLER HARDLY         2006                32\n",
       "..       ...                  ...          ...               ...\n",
       "953      107          BUNCH MINDS         2006                 5\n",
       "954       94     BRAVEHEART HUMAN         2006                 5\n",
       "955      904          TRAIN BUNCH         2006                 4\n",
       "956      584          MIXED DOORS         2006                 4\n",
       "957      400       HARDLY ROBBERS         2006                 4\n",
       "\n",
       "[958 rows x 4 columns]"
      ]
     },
     "execution_count": 111,
     "metadata": {},
     "output_type": "execute_result"
    }
   ],
   "source": [
    "# YOUR CODE HERE\n",
    "pd.read_sql_query(\n",
    "'''\n",
    "SELECT\n",
    "    film.film_id, film.title, film.release_year, COUNT(rental_id)\n",
    "FROM rental\n",
    "    LEFT JOIN inventory ON rental.inventory_id = inventory.inventory_id\n",
    "    LEFT JOIN film ON inventory.film_id = film.film_id\n",
    "GROUP BY film.film_id\n",
    "ORDER BY COUNT(rental_id) DESC;\n",
    "''', conn)"
   ]
  },
  {
   "cell_type": "raw",
   "metadata": {},
   "source": [
    "# YOUR WRITTEN ANSWER HERE\n",
    "The top film is BUCKET BROTHERHOOD, and the details of the film are listed above.\n",
    "The number of rentals is getting from merging inventory, rental and film."
   ]
  },
  {
   "cell_type": "markdown",
   "metadata": {},
   "source": [
    "### 3.6: Not returned rentals\n",
    "Find out how many rentals have not yet been returned.\n",
    "<span style= 'float: right;'><b>[2 marks]</b></span>"
   ]
  },
  {
   "cell_type": "code",
   "execution_count": 112,
   "metadata": {},
   "outputs": [
    {
     "data": {
      "text/html": [
       "<div>\n",
       "<style scoped>\n",
       "    .dataframe tbody tr th:only-of-type {\n",
       "        vertical-align: middle;\n",
       "    }\n",
       "\n",
       "    .dataframe tbody tr th {\n",
       "        vertical-align: top;\n",
       "    }\n",
       "\n",
       "    .dataframe thead th {\n",
       "        text-align: right;\n",
       "    }\n",
       "</style>\n",
       "<table border=\"1\" class=\"dataframe\">\n",
       "  <thead>\n",
       "    <tr style=\"text-align: right;\">\n",
       "      <th></th>\n",
       "      <th>COUNT(*)</th>\n",
       "    </tr>\n",
       "  </thead>\n",
       "  <tbody>\n",
       "    <tr>\n",
       "      <th>0</th>\n",
       "      <td>183</td>\n",
       "    </tr>\n",
       "  </tbody>\n",
       "</table>\n",
       "</div>"
      ],
      "text/plain": [
       "   COUNT(*)\n",
       "0       183"
      ]
     },
     "execution_count": 112,
     "metadata": {},
     "output_type": "execute_result"
    }
   ],
   "source": [
    "# YOUR CODE HERE\n",
    "pd.read_sql_query(\n",
    "'''\n",
    "SELECT COUNT(*)\n",
    "    FROM rental\n",
    "WHERE return_date is NULL;\n",
    "''', conn)"
   ]
  },
  {
   "cell_type": "raw",
   "metadata": {},
   "source": [
    "# YOUR WRITTEN ANSWER HERE\n",
    "183 rentals have not yet been returned."
   ]
  },
  {
   "cell_type": "markdown",
   "metadata": {},
   "source": [
    "### 3.7: Finding a customer\n",
    "List the film titles that the customer _BARBARA JONES_ has rented. \n",
    "\n",
    "<span style= 'float: right;'><b>[4 marks]</b></span>"
   ]
  },
  {
   "cell_type": "code",
   "execution_count": 113,
   "metadata": {},
   "outputs": [
    {
     "data": {
      "text/html": [
       "<div>\n",
       "<style scoped>\n",
       "    .dataframe tbody tr th:only-of-type {\n",
       "        vertical-align: middle;\n",
       "    }\n",
       "\n",
       "    .dataframe tbody tr th {\n",
       "        vertical-align: top;\n",
       "    }\n",
       "\n",
       "    .dataframe thead th {\n",
       "        text-align: right;\n",
       "    }\n",
       "</style>\n",
       "<table border=\"1\" class=\"dataframe\">\n",
       "  <thead>\n",
       "    <tr style=\"text-align: right;\">\n",
       "      <th></th>\n",
       "      <th>title</th>\n",
       "    </tr>\n",
       "  </thead>\n",
       "  <tbody>\n",
       "    <tr>\n",
       "      <th>0</th>\n",
       "      <td>ALAMO VIDEOTAPE</td>\n",
       "    </tr>\n",
       "    <tr>\n",
       "      <th>1</th>\n",
       "      <td>AMADEUS HOLY</td>\n",
       "    </tr>\n",
       "    <tr>\n",
       "      <th>2</th>\n",
       "      <td>ANNIE IDENTITY</td>\n",
       "    </tr>\n",
       "    <tr>\n",
       "      <th>3</th>\n",
       "      <td>ARACHNOPHOBIA ROLLERCOASTER</td>\n",
       "    </tr>\n",
       "    <tr>\n",
       "      <th>4</th>\n",
       "      <td>ARTIST COLDBLOODED</td>\n",
       "    </tr>\n",
       "    <tr>\n",
       "      <th>5</th>\n",
       "      <td>BEDAZZLED MARRIED</td>\n",
       "    </tr>\n",
       "    <tr>\n",
       "      <th>6</th>\n",
       "      <td>DEEP CRUSADE</td>\n",
       "    </tr>\n",
       "    <tr>\n",
       "      <th>7</th>\n",
       "      <td>DOGMA FAMILY</td>\n",
       "    </tr>\n",
       "    <tr>\n",
       "      <th>8</th>\n",
       "      <td>HOOSIERS BIRDCAGE</td>\n",
       "    </tr>\n",
       "    <tr>\n",
       "      <th>9</th>\n",
       "      <td>IDAHO LOVE</td>\n",
       "    </tr>\n",
       "    <tr>\n",
       "      <th>10</th>\n",
       "      <td>MADIGAN DORADO</td>\n",
       "    </tr>\n",
       "    <tr>\n",
       "      <th>11</th>\n",
       "      <td>MAGIC MALLRATS</td>\n",
       "    </tr>\n",
       "    <tr>\n",
       "      <th>12</th>\n",
       "      <td>MARRIED GO</td>\n",
       "    </tr>\n",
       "    <tr>\n",
       "      <th>13</th>\n",
       "      <td>PANIC CLUB</td>\n",
       "    </tr>\n",
       "    <tr>\n",
       "      <th>14</th>\n",
       "      <td>PHILADELPHIA WIFE</td>\n",
       "    </tr>\n",
       "    <tr>\n",
       "      <th>15</th>\n",
       "      <td>REUNION WITCHES</td>\n",
       "    </tr>\n",
       "    <tr>\n",
       "      <th>16</th>\n",
       "      <td>ROLLERCOASTER BRINGING</td>\n",
       "    </tr>\n",
       "    <tr>\n",
       "      <th>17</th>\n",
       "      <td>SHANGHAI TYCOON</td>\n",
       "    </tr>\n",
       "    <tr>\n",
       "      <th>18</th>\n",
       "      <td>STAGE WORLD</td>\n",
       "    </tr>\n",
       "    <tr>\n",
       "      <th>19</th>\n",
       "      <td>TOMORROW HUSTLER</td>\n",
       "    </tr>\n",
       "    <tr>\n",
       "      <th>20</th>\n",
       "      <td>VERTIGO NORTHWEST</td>\n",
       "    </tr>\n",
       "    <tr>\n",
       "      <th>21</th>\n",
       "      <td>WARDROBE PHANTOM</td>\n",
       "    </tr>\n",
       "  </tbody>\n",
       "</table>\n",
       "</div>"
      ],
      "text/plain": [
       "                          title\n",
       "0               ALAMO VIDEOTAPE\n",
       "1                  AMADEUS HOLY\n",
       "2                ANNIE IDENTITY\n",
       "3   ARACHNOPHOBIA ROLLERCOASTER\n",
       "4            ARTIST COLDBLOODED\n",
       "5             BEDAZZLED MARRIED\n",
       "6                  DEEP CRUSADE\n",
       "7                  DOGMA FAMILY\n",
       "8             HOOSIERS BIRDCAGE\n",
       "9                    IDAHO LOVE\n",
       "10               MADIGAN DORADO\n",
       "11               MAGIC MALLRATS\n",
       "12                   MARRIED GO\n",
       "13                   PANIC CLUB\n",
       "14            PHILADELPHIA WIFE\n",
       "15              REUNION WITCHES\n",
       "16       ROLLERCOASTER BRINGING\n",
       "17              SHANGHAI TYCOON\n",
       "18                  STAGE WORLD\n",
       "19             TOMORROW HUSTLER\n",
       "20            VERTIGO NORTHWEST\n",
       "21             WARDROBE PHANTOM"
      ]
     },
     "execution_count": 113,
     "metadata": {},
     "output_type": "execute_result"
    }
   ],
   "source": [
    "# YOUR CODE HERE\n",
    "pd.read_sql_query(\n",
    "'''\n",
    "    SELECT DISTINCT(film.title)\n",
    "    FROM inventory\n",
    "    LEFT JOIN rental ON inventory.inventory_id = rental.inventory_id\n",
    "    LEFT JOIN payment ON payment.rental_id = rental.rental_id\n",
    "    LEFT JOIN customer ON payment.customer_id = customer.customer_id\n",
    "    LEFT JOIN film ON film.film_id = inventory.film_id\n",
    "    WHERE customer.first_name = 'BARBARA' AND customer.last_name = 'JONES'\n",
    "    ;\n",
    "''', conn)"
   ]
  },
  {
   "cell_type": "raw",
   "metadata": {},
   "source": [
    "# YOUR WRITTEN ANSWER HERE\n",
    "Titles of The 22 films that BARBARA JONES has rented are listed above."
   ]
  },
  {
   "cell_type": "markdown",
   "metadata": {},
   "source": [
    "### 3.8: Top customers (for COMP6420 students only)\n",
    "Find the customers who have rented more than 40 DVDs and the total amount paid by these customers.\n",
    "List the _first_name_, _last_name_ of thsese customers, along with the total number of DVDs rented and total amount paid by these customers. \n",
    "\n",
    "Rename the returned columns as First_Name, Last_Name, Orders and Total_Price respectively.\n",
    "\n",
    "<span style= 'float: right;'><b>[5 marks]</b></span>"
   ]
  },
  {
   "cell_type": "code",
   "execution_count": 114,
   "metadata": {},
   "outputs": [],
   "source": [
    "# YOUR CODE HERE\n"
   ]
  },
  {
   "cell_type": "raw",
   "metadata": {},
   "source": [
    "# YOUR WRITTEN ANSWER HERE\n"
   ]
  },
  {
   "cell_type": "markdown",
   "metadata": {
    "tags": []
   },
   "source": [
    "*****\n",
    "## Q4: Database Design (15 marks)\n",
    "\n",
    "You task is to design and implement a relational database for the data that we encountered in the Assignment 1 and in Question 1 of this assignment. For a refresher on the data and more information on the schema descriptions, go check the [about.md](./data/cvss/about.md) file."
   ]
  },
  {
   "cell_type": "markdown",
   "metadata": {},
   "source": [
    "### 4.1 With considering normalisation, design a database to match the CVSS dataset provided in the assignment. \n",
    "Draw a simple ER diagram showing the relationship between the 3 tables that has been provided to you. \n",
    "- cvss_data_complete.csv\n",
    "- cve_configurations_mapping.csv\n",
    "- cwe_capec_mapping.csv\n",
    "\n",
    "__Note:__  Remember to state all assumptions beforehand. \n",
    "\n",
    "__Note 2:__ Diagrams can be drawn by hand and scanned/photographed, or you can use a tool such as [draw.io](https://draw.io). You should include the diagram in the `img` folder, and import it into a markdown box in your notebook. You can use the command `![er.png](./img/er.png)` where `er.png` is the name of your ER diagram file.\n",
    "<span style= 'float: right;'><b>[7 marks]</b></span>"
   ]
  },
  {
   "cell_type": "code",
   "execution_count": 115,
   "metadata": {},
   "outputs": [
    {
     "data": {
      "text/html": [
       "<div>\n",
       "<style scoped>\n",
       "    .dataframe tbody tr th:only-of-type {\n",
       "        vertical-align: middle;\n",
       "    }\n",
       "\n",
       "    .dataframe tbody tr th {\n",
       "        vertical-align: top;\n",
       "    }\n",
       "\n",
       "    .dataframe thead th {\n",
       "        text-align: right;\n",
       "    }\n",
       "</style>\n",
       "<table border=\"1\" class=\"dataframe\">\n",
       "  <thead>\n",
       "    <tr style=\"text-align: right;\">\n",
       "      <th></th>\n",
       "      <th>cve_id</th>\n",
       "      <th>assigner</th>\n",
       "      <th>description</th>\n",
       "      <th>cwe_ids</th>\n",
       "      <th>refs</th>\n",
       "      <th>ref_names</th>\n",
       "      <th>ref_sources</th>\n",
       "      <th>ref_tags</th>\n",
       "      <th>v3_attackVector</th>\n",
       "      <th>v3_attackComplexity</th>\n",
       "      <th>v3_privilegesRequired</th>\n",
       "      <th>v3_userInteraction</th>\n",
       "      <th>v3_scope</th>\n",
       "      <th>v3_confidentialityImpact</th>\n",
       "      <th>v3_integrityImpact</th>\n",
       "      <th>v3_availabilityImpact</th>\n",
       "      <th>v3_baseScore</th>\n",
       "      <th>v3_baseSeverity</th>\n",
       "      <th>v3_exploitabilityScore</th>\n",
       "      <th>v3_impactScore</th>\n",
       "    </tr>\n",
       "  </thead>\n",
       "  <tbody>\n",
       "    <tr>\n",
       "      <th>0</th>\n",
       "      <td>CVE-2020-0002</td>\n",
       "      <td>security@android.com</td>\n",
       "      <td>In ih264d_init_decoder of ih264d_api.c, there ...</td>\n",
       "      <td>CWE-787,CWE-416</td>\n",
       "      <td>https://source.android.com/security/bulletin/2...</td>\n",
       "      <td>https://source.android.com/security/bulletin/2...</td>\n",
       "      <td>CONFIRM</td>\n",
       "      <td>[['Patch', 'Vendor Advisory']]</td>\n",
       "      <td>NETWORK</td>\n",
       "      <td>LOW</td>\n",
       "      <td>NONE</td>\n",
       "      <td>REQUIRED</td>\n",
       "      <td>UNCHANGED</td>\n",
       "      <td>HIGH</td>\n",
       "      <td>HIGH</td>\n",
       "      <td>HIGH</td>\n",
       "      <td>8.8</td>\n",
       "      <td>HIGH</td>\n",
       "      <td>2.8</td>\n",
       "      <td>5.9</td>\n",
       "    </tr>\n",
       "    <tr>\n",
       "      <th>1</th>\n",
       "      <td>CVE-2020-0003</td>\n",
       "      <td>security@android.com</td>\n",
       "      <td>In onCreate of InstallStart.java, there is a p...</td>\n",
       "      <td>CWE-367</td>\n",
       "      <td>https://source.android.com/security/bulletin/2...</td>\n",
       "      <td>https://source.android.com/security/bulletin/2...</td>\n",
       "      <td>CONFIRM</td>\n",
       "      <td>[[]]</td>\n",
       "      <td>LOCAL</td>\n",
       "      <td>HIGH</td>\n",
       "      <td>LOW</td>\n",
       "      <td>REQUIRED</td>\n",
       "      <td>UNCHANGED</td>\n",
       "      <td>HIGH</td>\n",
       "      <td>HIGH</td>\n",
       "      <td>HIGH</td>\n",
       "      <td>6.7</td>\n",
       "      <td>MEDIUM</td>\n",
       "      <td>0.8</td>\n",
       "      <td>5.9</td>\n",
       "    </tr>\n",
       "    <tr>\n",
       "      <th>2</th>\n",
       "      <td>CVE-2020-0005</td>\n",
       "      <td>security@android.com</td>\n",
       "      <td>In btm_read_remote_ext_features_complete of bt...</td>\n",
       "      <td>CWE-787</td>\n",
       "      <td>https://source.android.com/security/bulletin/2...</td>\n",
       "      <td>https://source.android.com/security/bulletin/2...</td>\n",
       "      <td>MISC</td>\n",
       "      <td>[['Patch', 'Vendor Advisory']]</td>\n",
       "      <td>LOCAL</td>\n",
       "      <td>LOW</td>\n",
       "      <td>HIGH</td>\n",
       "      <td>NONE</td>\n",
       "      <td>UNCHANGED</td>\n",
       "      <td>HIGH</td>\n",
       "      <td>HIGH</td>\n",
       "      <td>HIGH</td>\n",
       "      <td>6.7</td>\n",
       "      <td>MEDIUM</td>\n",
       "      <td>0.8</td>\n",
       "      <td>5.9</td>\n",
       "    </tr>\n",
       "    <tr>\n",
       "      <th>3</th>\n",
       "      <td>CVE-2020-0006</td>\n",
       "      <td>security@android.com</td>\n",
       "      <td>In rw_i93_send_cmd_write_single_block of rw_i9...</td>\n",
       "      <td>CWE-908</td>\n",
       "      <td>https://source.android.com/security/bulletin/2...</td>\n",
       "      <td>https://source.android.com/security/bulletin/2...</td>\n",
       "      <td>CONFIRM</td>\n",
       "      <td>[['Patch', 'Vendor Advisory']]</td>\n",
       "      <td>NETWORK</td>\n",
       "      <td>LOW</td>\n",
       "      <td>NONE</td>\n",
       "      <td>REQUIRED</td>\n",
       "      <td>UNCHANGED</td>\n",
       "      <td>HIGH</td>\n",
       "      <td>NONE</td>\n",
       "      <td>NONE</td>\n",
       "      <td>6.5</td>\n",
       "      <td>MEDIUM</td>\n",
       "      <td>2.8</td>\n",
       "      <td>3.6</td>\n",
       "    </tr>\n",
       "    <tr>\n",
       "      <th>4</th>\n",
       "      <td>CVE-2020-0007</td>\n",
       "      <td>security@android.com</td>\n",
       "      <td>In flattenString8 of Sensor.cpp, there is a po...</td>\n",
       "      <td>CWE-908</td>\n",
       "      <td>https://source.android.com/security/bulletin/2...</td>\n",
       "      <td>https://source.android.com/security/bulletin/2...</td>\n",
       "      <td>CONFIRM</td>\n",
       "      <td>[['Vendor Advisory']]</td>\n",
       "      <td>LOCAL</td>\n",
       "      <td>LOW</td>\n",
       "      <td>LOW</td>\n",
       "      <td>NONE</td>\n",
       "      <td>UNCHANGED</td>\n",
       "      <td>HIGH</td>\n",
       "      <td>NONE</td>\n",
       "      <td>NONE</td>\n",
       "      <td>5.5</td>\n",
       "      <td>MEDIUM</td>\n",
       "      <td>1.8</td>\n",
       "      <td>3.6</td>\n",
       "    </tr>\n",
       "  </tbody>\n",
       "</table>\n",
       "</div>"
      ],
      "text/plain": [
       "          cve_id              assigner  \\\n",
       "0  CVE-2020-0002  security@android.com   \n",
       "1  CVE-2020-0003  security@android.com   \n",
       "2  CVE-2020-0005  security@android.com   \n",
       "3  CVE-2020-0006  security@android.com   \n",
       "4  CVE-2020-0007  security@android.com   \n",
       "\n",
       "                                         description          cwe_ids  \\\n",
       "0  In ih264d_init_decoder of ih264d_api.c, there ...  CWE-787,CWE-416   \n",
       "1  In onCreate of InstallStart.java, there is a p...          CWE-367   \n",
       "2  In btm_read_remote_ext_features_complete of bt...          CWE-787   \n",
       "3  In rw_i93_send_cmd_write_single_block of rw_i9...          CWE-908   \n",
       "4  In flattenString8 of Sensor.cpp, there is a po...          CWE-908   \n",
       "\n",
       "                                                refs  \\\n",
       "0  https://source.android.com/security/bulletin/2...   \n",
       "1  https://source.android.com/security/bulletin/2...   \n",
       "2  https://source.android.com/security/bulletin/2...   \n",
       "3  https://source.android.com/security/bulletin/2...   \n",
       "4  https://source.android.com/security/bulletin/2...   \n",
       "\n",
       "                                           ref_names ref_sources  \\\n",
       "0  https://source.android.com/security/bulletin/2...     CONFIRM   \n",
       "1  https://source.android.com/security/bulletin/2...     CONFIRM   \n",
       "2  https://source.android.com/security/bulletin/2...        MISC   \n",
       "3  https://source.android.com/security/bulletin/2...     CONFIRM   \n",
       "4  https://source.android.com/security/bulletin/2...     CONFIRM   \n",
       "\n",
       "                         ref_tags v3_attackVector v3_attackComplexity  \\\n",
       "0  [['Patch', 'Vendor Advisory']]         NETWORK                 LOW   \n",
       "1                            [[]]           LOCAL                HIGH   \n",
       "2  [['Patch', 'Vendor Advisory']]           LOCAL                 LOW   \n",
       "3  [['Patch', 'Vendor Advisory']]         NETWORK                 LOW   \n",
       "4           [['Vendor Advisory']]           LOCAL                 LOW   \n",
       "\n",
       "  v3_privilegesRequired v3_userInteraction   v3_scope  \\\n",
       "0                  NONE           REQUIRED  UNCHANGED   \n",
       "1                   LOW           REQUIRED  UNCHANGED   \n",
       "2                  HIGH               NONE  UNCHANGED   \n",
       "3                  NONE           REQUIRED  UNCHANGED   \n",
       "4                   LOW               NONE  UNCHANGED   \n",
       "\n",
       "  v3_confidentialityImpact v3_integrityImpact v3_availabilityImpact  \\\n",
       "0                     HIGH               HIGH                  HIGH   \n",
       "1                     HIGH               HIGH                  HIGH   \n",
       "2                     HIGH               HIGH                  HIGH   \n",
       "3                     HIGH               NONE                  NONE   \n",
       "4                     HIGH               NONE                  NONE   \n",
       "\n",
       "   v3_baseScore v3_baseSeverity  v3_exploitabilityScore  v3_impactScore  \n",
       "0           8.8            HIGH                     2.8             5.9  \n",
       "1           6.7          MEDIUM                     0.8             5.9  \n",
       "2           6.7          MEDIUM                     0.8             5.9  \n",
       "3           6.5          MEDIUM                     2.8             3.6  \n",
       "4           5.5          MEDIUM                     1.8             3.6  "
      ]
     },
     "execution_count": 115,
     "metadata": {},
     "output_type": "execute_result"
    }
   ],
   "source": [
    "# YOUR CODE HERE\n",
    "data_complete = pd.read_csv('data/cvss/cvss_data_complete.csv')\n",
    "data_complete.head()\n",
    "# (ANY ADDITIONAL CELLS AS REQUIRED)"
   ]
  },
  {
   "cell_type": "code",
   "execution_count": 116,
   "metadata": {},
   "outputs": [
    {
     "data": {
      "text/html": [
       "<div>\n",
       "<style scoped>\n",
       "    .dataframe tbody tr th:only-of-type {\n",
       "        vertical-align: middle;\n",
       "    }\n",
       "\n",
       "    .dataframe tbody tr th {\n",
       "        vertical-align: top;\n",
       "    }\n",
       "\n",
       "    .dataframe thead th {\n",
       "        text-align: right;\n",
       "    }\n",
       "</style>\n",
       "<table border=\"1\" class=\"dataframe\">\n",
       "  <thead>\n",
       "    <tr style=\"text-align: right;\">\n",
       "      <th></th>\n",
       "      <th>cve_id</th>\n",
       "      <th>assigner</th>\n",
       "      <th>description</th>\n",
       "      <th>cwe_ids</th>\n",
       "      <th>refs</th>\n",
       "      <th>ref_names</th>\n",
       "      <th>ref_sources</th>\n",
       "      <th>ref_tags</th>\n",
       "      <th>v3_attackVector</th>\n",
       "      <th>v3_attackComplexity</th>\n",
       "      <th>v3_privilegesRequired</th>\n",
       "      <th>v3_userInteraction</th>\n",
       "      <th>v3_scope</th>\n",
       "      <th>v3_confidentialityImpact</th>\n",
       "      <th>v3_integrityImpact</th>\n",
       "      <th>v3_availabilityImpact</th>\n",
       "      <th>v3_baseScore</th>\n",
       "      <th>v3_baseSeverity</th>\n",
       "      <th>v3_exploitabilityScore</th>\n",
       "      <th>v3_impactScore</th>\n",
       "    </tr>\n",
       "  </thead>\n",
       "  <tbody>\n",
       "    <tr>\n",
       "      <th>count</th>\n",
       "      <td>9210</td>\n",
       "      <td>9210</td>\n",
       "      <td>9210</td>\n",
       "      <td>9210</td>\n",
       "      <td>9210</td>\n",
       "      <td>9024</td>\n",
       "      <td>9086</td>\n",
       "      <td>9210</td>\n",
       "      <td>9210</td>\n",
       "      <td>9210</td>\n",
       "      <td>9210</td>\n",
       "      <td>9210</td>\n",
       "      <td>9210</td>\n",
       "      <td>9210</td>\n",
       "      <td>9210</td>\n",
       "      <td>9210</td>\n",
       "      <td>9210.0</td>\n",
       "      <td>9210</td>\n",
       "      <td>9210.0</td>\n",
       "      <td>9210.0</td>\n",
       "    </tr>\n",
       "    <tr>\n",
       "      <th>unique</th>\n",
       "      <td>9210</td>\n",
       "      <td>117</td>\n",
       "      <td>8919</td>\n",
       "      <td>294</td>\n",
       "      <td>7291</td>\n",
       "      <td>7075</td>\n",
       "      <td>793</td>\n",
       "      <td>2038</td>\n",
       "      <td>4</td>\n",
       "      <td>2</td>\n",
       "      <td>3</td>\n",
       "      <td>2</td>\n",
       "      <td>2</td>\n",
       "      <td>3</td>\n",
       "      <td>3</td>\n",
       "      <td>3</td>\n",
       "      <td>NaN</td>\n",
       "      <td>4</td>\n",
       "      <td>NaN</td>\n",
       "      <td>NaN</td>\n",
       "    </tr>\n",
       "  </tbody>\n",
       "</table>\n",
       "</div>"
      ],
      "text/plain": [
       "       cve_id assigner description cwe_ids  refs ref_names ref_sources  \\\n",
       "count    9210     9210        9210    9210  9210      9024        9086   \n",
       "unique   9210      117        8919     294  7291      7075         793   \n",
       "\n",
       "       ref_tags v3_attackVector v3_attackComplexity v3_privilegesRequired  \\\n",
       "count      9210            9210                9210                  9210   \n",
       "unique     2038               4                   2                     3   \n",
       "\n",
       "       v3_userInteraction v3_scope v3_confidentialityImpact  \\\n",
       "count                9210     9210                     9210   \n",
       "unique                  2        2                        3   \n",
       "\n",
       "       v3_integrityImpact v3_availabilityImpact  v3_baseScore v3_baseSeverity  \\\n",
       "count                9210                  9210        9210.0            9210   \n",
       "unique                  3                     3           NaN               4   \n",
       "\n",
       "        v3_exploitabilityScore  v3_impactScore  \n",
       "count                   9210.0          9210.0  \n",
       "unique                     NaN             NaN  "
      ]
     },
     "execution_count": 116,
     "metadata": {},
     "output_type": "execute_result"
    }
   ],
   "source": [
    "data_complete.describe(include='all').iloc[:2]"
   ]
  },
  {
   "cell_type": "code",
   "execution_count": 117,
   "metadata": {},
   "outputs": [
    {
     "data": {
      "text/html": [
       "<div>\n",
       "<style scoped>\n",
       "    .dataframe tbody tr th:only-of-type {\n",
       "        vertical-align: middle;\n",
       "    }\n",
       "\n",
       "    .dataframe tbody tr th {\n",
       "        vertical-align: top;\n",
       "    }\n",
       "\n",
       "    .dataframe thead th {\n",
       "        text-align: right;\n",
       "    }\n",
       "</style>\n",
       "<table border=\"1\" class=\"dataframe\">\n",
       "  <thead>\n",
       "    <tr style=\"text-align: right;\">\n",
       "      <th></th>\n",
       "      <th>cve_id</th>\n",
       "      <th>vendor</th>\n",
       "      <th>product_name</th>\n",
       "      <th>version</th>\n",
       "    </tr>\n",
       "  </thead>\n",
       "  <tbody>\n",
       "    <tr>\n",
       "      <th>0</th>\n",
       "      <td>CVE-2020-0002</td>\n",
       "      <td>google</td>\n",
       "      <td>android</td>\n",
       "      <td>8.0,8.1,9.0,10.0</td>\n",
       "    </tr>\n",
       "    <tr>\n",
       "      <th>1</th>\n",
       "      <td>CVE-2020-0003</td>\n",
       "      <td>google</td>\n",
       "      <td>android</td>\n",
       "      <td>8.0</td>\n",
       "    </tr>\n",
       "    <tr>\n",
       "      <th>2</th>\n",
       "      <td>CVE-2020-0005</td>\n",
       "      <td>google</td>\n",
       "      <td>android</td>\n",
       "      <td>8.0,8.1,9.0,10.0</td>\n",
       "    </tr>\n",
       "    <tr>\n",
       "      <th>3</th>\n",
       "      <td>CVE-2020-0006</td>\n",
       "      <td>google</td>\n",
       "      <td>android</td>\n",
       "      <td>8.0,8.1,9.0,10.0</td>\n",
       "    </tr>\n",
       "    <tr>\n",
       "      <th>4</th>\n",
       "      <td>CVE-2020-0007</td>\n",
       "      <td>google</td>\n",
       "      <td>android</td>\n",
       "      <td>8.0,8.1,9.0,10.0</td>\n",
       "    </tr>\n",
       "  </tbody>\n",
       "</table>\n",
       "</div>"
      ],
      "text/plain": [
       "          cve_id  vendor product_name           version\n",
       "0  CVE-2020-0002  google      android  8.0,8.1,9.0,10.0\n",
       "1  CVE-2020-0003  google      android               8.0\n",
       "2  CVE-2020-0005  google      android  8.0,8.1,9.0,10.0\n",
       "3  CVE-2020-0006  google      android  8.0,8.1,9.0,10.0\n",
       "4  CVE-2020-0007  google      android  8.0,8.1,9.0,10.0"
      ]
     },
     "execution_count": 117,
     "metadata": {},
     "output_type": "execute_result"
    }
   ],
   "source": [
    "configurations_mapping = pd.read_csv('data/cvss/cve_configurations_mapping.csv')\n",
    "configurations_mapping.head()"
   ]
  },
  {
   "cell_type": "code",
   "execution_count": 118,
   "metadata": {},
   "outputs": [
    {
     "data": {
      "text/html": [
       "<div>\n",
       "<style scoped>\n",
       "    .dataframe tbody tr th:only-of-type {\n",
       "        vertical-align: middle;\n",
       "    }\n",
       "\n",
       "    .dataframe tbody tr th {\n",
       "        vertical-align: top;\n",
       "    }\n",
       "\n",
       "    .dataframe thead th {\n",
       "        text-align: right;\n",
       "    }\n",
       "</style>\n",
       "<table border=\"1\" class=\"dataframe\">\n",
       "  <thead>\n",
       "    <tr style=\"text-align: right;\">\n",
       "      <th></th>\n",
       "      <th>cve_id</th>\n",
       "      <th>vendor</th>\n",
       "      <th>product_name</th>\n",
       "      <th>version</th>\n",
       "    </tr>\n",
       "  </thead>\n",
       "  <tbody>\n",
       "    <tr>\n",
       "      <th>count</th>\n",
       "      <td>52328</td>\n",
       "      <td>52328</td>\n",
       "      <td>52328</td>\n",
       "      <td>52327</td>\n",
       "    </tr>\n",
       "    <tr>\n",
       "      <th>unique</th>\n",
       "      <td>9210</td>\n",
       "      <td>2208</td>\n",
       "      <td>9127</td>\n",
       "      <td>4358</td>\n",
       "    </tr>\n",
       "  </tbody>\n",
       "</table>\n",
       "</div>"
      ],
      "text/plain": [
       "       cve_id vendor product_name version\n",
       "count   52328  52328        52328   52327\n",
       "unique   9210   2208         9127    4358"
      ]
     },
     "execution_count": 118,
     "metadata": {},
     "output_type": "execute_result"
    }
   ],
   "source": [
    "configurations_mapping.describe(include='all').iloc[:2]"
   ]
  },
  {
   "cell_type": "code",
   "execution_count": 119,
   "metadata": {},
   "outputs": [
    {
     "data": {
      "text/html": [
       "<div>\n",
       "<style scoped>\n",
       "    .dataframe tbody tr th:only-of-type {\n",
       "        vertical-align: middle;\n",
       "    }\n",
       "\n",
       "    .dataframe tbody tr th {\n",
       "        vertical-align: top;\n",
       "    }\n",
       "\n",
       "    .dataframe thead th {\n",
       "        text-align: right;\n",
       "    }\n",
       "</style>\n",
       "<table border=\"1\" class=\"dataframe\">\n",
       "  <thead>\n",
       "    <tr style=\"text-align: right;\">\n",
       "      <th></th>\n",
       "      <th>cwe</th>\n",
       "      <th>capecs</th>\n",
       "    </tr>\n",
       "  </thead>\n",
       "  <tbody>\n",
       "    <tr>\n",
       "      <th>0</th>\n",
       "      <td>CWE-276</td>\n",
       "      <td>CAPEC-1,CAPEC-127,CAPEC-81</td>\n",
       "    </tr>\n",
       "    <tr>\n",
       "      <th>1</th>\n",
       "      <td>CWE-285</td>\n",
       "      <td>CAPEC-1,CAPEC-104,CAPEC-127,CAPEC-13,CAPEC-17,...</td>\n",
       "    </tr>\n",
       "    <tr>\n",
       "      <th>2</th>\n",
       "      <td>CWE-434</td>\n",
       "      <td>CAPEC-1</td>\n",
       "    </tr>\n",
       "    <tr>\n",
       "      <th>3</th>\n",
       "      <td>CWE-693</td>\n",
       "      <td>CAPEC-1,CAPEC-107,CAPEC-127,CAPEC-17,CAPEC-20,...</td>\n",
       "    </tr>\n",
       "    <tr>\n",
       "      <th>4</th>\n",
       "      <td>CWE-732</td>\n",
       "      <td>CAPEC-1,CAPEC-122,CAPEC-127,CAPEC-17,CAPEC-180...</td>\n",
       "    </tr>\n",
       "  </tbody>\n",
       "</table>\n",
       "</div>"
      ],
      "text/plain": [
       "       cwe                                             capecs\n",
       "0  CWE-276                         CAPEC-1,CAPEC-127,CAPEC-81\n",
       "1  CWE-285  CAPEC-1,CAPEC-104,CAPEC-127,CAPEC-13,CAPEC-17,...\n",
       "2  CWE-434                                            CAPEC-1\n",
       "3  CWE-693  CAPEC-1,CAPEC-107,CAPEC-127,CAPEC-17,CAPEC-20,...\n",
       "4  CWE-732  CAPEC-1,CAPEC-122,CAPEC-127,CAPEC-17,CAPEC-180..."
      ]
     },
     "execution_count": 119,
     "metadata": {},
     "output_type": "execute_result"
    }
   ],
   "source": [
    "capec_mapping = pd.read_csv('data/cvss/cwe_capec_mapping.csv')\n",
    "capec_mapping.head()"
   ]
  },
  {
   "cell_type": "markdown",
   "metadata": {},
   "source": [
    "![er.png](./img/er.png)"
   ]
  },
  {
   "cell_type": "raw",
   "metadata": {},
   "source": [
    "# YOUR RESPONSE HERE\n",
    "The ER diagram was imported above."
   ]
  },
  {
   "cell_type": "markdown",
   "metadata": {},
   "source": [
    "### 4.2 Evaluate the design of your database with respect to the normalisation considerations. \n",
    "<span style= 'float: right;'><b>[3 marks]</b></span>"
   ]
  },
  {
   "cell_type": "raw",
   "metadata": {},
   "source": [
    "# YOUR RESPONSE HERE\n",
    "\n",
    "The table must have a primary key, the second is that the columns not included in the primary key must completely depend on the primary key\n",
    "The properties of are completely dependent on the primary key \n",
    "So the designed database satisfies the 2NF."
   ]
  },
  {
   "cell_type": "markdown",
   "metadata": {},
   "source": [
    "### 4.3 Implement the database in an SQLite database \n",
    "Create the database with the tables you designed above. (You are not required to fill in the tables with the data from the files.)\n",
    "<span style= 'float: right;'><b>[5 marks]</b></span>"
   ]
  },
  {
   "cell_type": "code",
   "execution_count": 120,
   "metadata": {},
   "outputs": [
    {
     "data": {
      "text/plain": [
       "<sqlite3.Cursor at 0x21c84da4ce0>"
      ]
     },
     "execution_count": 120,
     "metadata": {},
     "output_type": "execute_result"
    }
   ],
   "source": [
    "# YOUR CODE HERE\n",
    "conn.execute('''CREATE TABLE IF NOT EXISTS capec_mapping (\n",
    "  cwe_id INT NOT NULL,\n",
    "  capecs     TEXT,\n",
    "  PRIMARY KEY (cwe_id)\n",
    ");''')\n",
    "\n",
    "conn.execute('''CREATE TABLE IF NOT EXISTS ref (\n",
    "  ref_id INT NOT NULL,\n",
    "  reff     TEXT,\n",
    "  ref_names TEXT,\n",
    "  ref_sources TEXT,\n",
    "  ref_tags TEXT,\n",
    "  PRIMARY KEY (ref_id)\n",
    ");''')\n",
    "\n",
    "conn.execute('''CREATE TABLE IF NOT EXISTS configurations_mapping (\n",
    "  conf_id INT NOT NULL,\n",
    "  cve_id     int,\n",
    "  vendor TEXT,\n",
    "  product_name TEXT,\n",
    "  version TEXT,\n",
    "  PRIMARY KEY (conf_id)\n",
    ");''')\n",
    "\n",
    "\n",
    "conn.execute('''\n",
    "CREATE TABLE IF NOT EXISTS cvss_data_complete (\n",
    "    data_idx INT NOT NULL,\n",
    "    cve_id INT NOT NULL,\n",
    "    assigner_id INT NOT NULL,\n",
    "    description TEXT,\n",
    "    cwe_ids TEXT,\n",
    "    ref_id TEXT,\n",
    "    v3_attackVector TEXT,\n",
    "    v3_attackComplexity TEXT,\n",
    "    v3_privilegesRequired TEXT,\n",
    "    v3_userInteraction TEXT,\n",
    "    v3_scope TEXT,\n",
    "    v3_confidentialityImpact TEXT,\n",
    "    v3_availabilityImpact TEXT,\n",
    "    v3_baseScore FLOAT,\n",
    "    v3_baseSeverity TEXT,\n",
    "    v3_exploitabilityScore FLOAT,\n",
    "    v3_impactScore FLOAT,\n",
    "    PRIMARY KEY (data_idx),\n",
    "    FOREIGN KEY (ref_id)\n",
    "       REFERENCES ref (ref_id),\n",
    "    FOREIGN KEY (cve_id)\n",
    "       REFERENCES cve_configurations_mapping (cve_id),\n",
    "    FOREIGN KEY (cve_id)\n",
    "       REFERENCES configurations_mapping (cve_id)\n",
    ");\n",
    "''')\n",
    "# (ANY ADDITIONAL CELLS AS REQUIRED)"
   ]
  },
  {
   "cell_type": "raw",
   "metadata": {},
   "source": [
    "# YOUR RESPONSE HERE\n",
    "the tables are created above"
   ]
  },
  {
   "cell_type": "markdown",
   "metadata": {},
   "source": [
    "*****\n",
    "## Q5: Data Ethics and Data Security (20 marks)\n",
    "\n",
    "Many people use the social media platform Facebook daily to keep in touch with friends and family.  Currently, Facebook is by far the most used social media platform (see [statistics by Data reportal](https://datareportal.com/reports/digital-2022-future-of-facebook)). \n",
    "\n",
    "The Facebook news feed is normally what users rely on to keep track of what is happening within their social network,  catching up with status updates, messages, videos and photos that their connections post.  The Facebook news feed is a curated list presented to users using various algorithms to determine what best to present.  Most users barely even think about how items in their news feed get picked.\n",
    "\n",
    "For one week in January 2012, a group of data scientists from Facebook and Cornell University manipulated the newsfeed of selected Facebook users without their knowledge:\n",
    "- one group of users were shown a greater proportion of positive content on their newsfeed.\n",
    "- another group of users were shown a greater proportion of negative content on their newsfeed.\n",
    "    \n",
    "This was done as part of a research experiment to investigate _\"whether emotional states can be transferred to others via emotional contagion,leading people to experience the same emotions without their awareness\"_ [\\[1\\]](https://www.pnas.org/doi/10.1073/pnas.1320040111).  The results were even published in a reputable [journal article](https://www.pnas.org/doi/10.1073/pnas.1320040111).  The results showed that the group of users who were shown a greater proportion of positive content tended to post more positive content themselves whereas the group of users who were shown a greater proportion of negative content tended to post more negative content themselves.  In other words, they demonstrated _\"emotional contagion\"_.\n",
    "\n",
    "While many previous studies have used Facebook to examine _\"emotional contagion\"_, this particular experiment just described is different because it did not just involve observing Facebook users behaviour, it actually manipulated this behaviour through curating users' news feed in a particular manner and did so without asking them first.\n",
    "\n",
    "**Was this experiment legal?**\n",
    "\n",
    "Facebook's terms of service states that _\"users relinquish the use of their data for 'data analysis testing and research.\"_\n",
    "\n",
    "Facebook also released the following statement _\"This research was conducted for a single week in 2012 and none of the data used was associated with a specific person’s Facebook account. We do research to improve our services and to make the content people see on Facebook as relevant and engaging as possible. A big part of this is understanding how people respond to different types of content, whether it’s positive or negative in tone, news from friends, or information from pages they follow. We carefully consider what research we do and have a strong internal review process. There is no unnecessary collection of people’s data in connection with these research initiatives and all data is stored securely.\"_\n",
    "\n",
    "Much has been written about this experiment, a example opinion pieces are given here:\n",
    "\n",
    "Robinson Meyer (2014), ['Everything We Know About Facebook's Secret Mood-Manipulation Experiment'](https://www.theatlantic.com/technology/archive/2014/06/everything-we-know-about-facebooks-secret-mood-manipulation-experiment/373648/)\n",
    "\n",
    "Michelle Meyer (2014), ['Everything You Need to Know About Facebook's Controversial Emotion Experiment'](https://www.wired.com/2014/06/everything-you-need-to-know-about-facebooks-manipulative-experiment/)\n",
    "\n",
    "### 5.1: Company perspective \n",
    "As a company executive working for Facebook, do you think this experiment was a good thing? Discuss your reasons.\n",
    "<span style= 'float: right;'><b>[3 marks]</b></span>\n"
   ]
  },
  {
   "cell_type": "raw",
   "metadata": {},
   "source": [
    "# YOUR RESPONSE HERE\n",
    "As a member of the company, I probably thought this experiment would make sense. On the one hand, it can prove that Facebook is very important to the daily life of users, and it can also further help companies understand the transmission of information.\n",
    "In addition, it is more convenient to manage users, whose personalities are facialized, and more convenient for companies to promote advertising or notify activities, increasing user stickiness."
   ]
  },
  {
   "cell_type": "markdown",
   "metadata": {},
   "source": [
    "### 5.2: User perspective \n",
    "As a Facebook user, do you think this experiment was a good thing? Discuss your reasons.\n",
    "<span style= 'float: right;'><b>[3 marks]</b></span>\n",
    "\n"
   ]
  },
  {
   "cell_type": "raw",
   "metadata": {},
   "source": [
    "# YOUR RESPONSE HERE\n",
    "As a Facebook user, I don't think this experiment was a good thing because it felt like my actions and information were being manipulated.\n",
    "In addition, I hope I can learn about different aspects and be able to have more interests. Using algorithms to constantly recommend in this way will cause the user's knowledge to gradually become narrower, so I really dislike such experiments."
   ]
  },
  {
   "cell_type": "markdown",
   "metadata": {},
   "source": [
    "### 5.3: Was the research ethical? \n",
    "Discuss both the legal and ethical aspects of the research.  (What ethical considerations should the data scientists have taken into account?  Given the legal terms specified, was the experiment reasonable and justified? Make sure to substantiate your presented arguments.)\n",
    "<span style= 'float: right;'><b>[4 marks]</b></span>"
   ]
  },
  {
   "cell_type": "raw",
   "metadata": {},
   "source": [
    "# YOUR RESPONSE HERE\n",
    "This experiment violates the laws related to data and is very unethical. First of all, these experiments use real user data, so they require the consent of all users to be conducted. Second, the data was used in the experiments without the users' knowledge, and even published in journals for publication, which is a serious violation of personal privacy."
   ]
  },
  {
   "cell_type": "markdown",
   "metadata": {},
   "source": [
    "### 5.4: Responsibilties of data scientists\n",
    "\n",
    "What ethical responsibilities do data scientists have when carrying out their job? Why are those ethical responsibilities important?  Discuss in relation to the facebook experiment described.\n",
    "<span style= 'float: right;'><b>[3 marks]</b></span>"
   ]
  },
  {
   "cell_type": "raw",
   "metadata": {},
   "source": [
    "# YOUR RESPONSE HERE\n",
    "As a data scientist, the use of data needed for experiments requires user consent. \n",
    "The process of collecting and storing data needs to ensure that the user's information is not compromised. Maximum security and privacy of data is ensured."
   ]
  },
  {
   "cell_type": "markdown",
   "metadata": {},
   "source": [
    "### 5.5: Data Security\n",
    "Reading about this experiment has now made you think about your data on Facebook.  You are now wondering not only about what the good folks at Facebook could be doing to manipulate your news feed, but also about preserving the security of your data and the various vulnerabilities that could be exploited to access and misuse your data.  \n",
    "\n",
    "For the following activities, please assess the security risk and reflect on possible consequences:"
   ]
  },
  {
   "cell_type": "markdown",
   "metadata": {},
   "source": [
    "**5.5.1: Your friends send you a lot of facebook quizzes (such as \"Which Superhero are you?\" or \"Which Disney Princess are you?\"**\n",
    "\n",
    "If any, what are the security risks involved in posting your answers to those quizzes and how can you mitigate against them?\n",
    "<span style= 'float: right;'><b>[2 marks]</b></span>"
   ]
  },
  {
   "cell_type": "raw",
   "metadata": {},
   "source": [
    "# YOUR RESPONSE HERE\n",
    "In answering such questions, the user's preferences and basic information can be determined because questions such as the test \"What kind of superhero are you?\" require detailed answers, and the user's preferences can be determined by analyzing the user's answers."
   ]
  },
  {
   "cell_type": "markdown",
   "metadata": {},
   "source": [
    "**5.5.2: This good-looking person sent you a friend's request, and you feel conflicted about whether to accept or reject it.**\n",
    "\n",
    "If any, what are the security risks involved in accepting this request and what could be possible consequences?\n",
    "<span style= 'float: right;'><b>[2 marks]</b></span>"
   ]
  },
  {
   "cell_type": "raw",
   "metadata": {},
   "source": [
    "# YOUR RESPONSE HERE\n",
    "Through friend requests, more detailed personal information about a user can be collected. The risks in this type of behavior are exposure of personal information and harassment by strangers. Also, in the case of Facebook, for example, strangers will also access the user's friend list and harass the user's friends. After passing a friend request, most apps do not block links from friends, and clicking on these links may result in theft of the user's account and a Trojan virus on the computer or phone."
   ]
  },
  {
   "cell_type": "markdown",
   "metadata": {},
   "source": [
    "### 5.6: Getting under the hood with data privacy and security\n",
    "You bought something from that quirky clothing store and now suddenly you are noticing their ads on Facebook.  You did sign up for their loyalty program, who would say no to 5% off! So, did they share your contact information with Facebook? How does Facebook know you like that particular store when you have not posted about going there? (you did not want your Mum to find out you bought those clothes yet.)  It turns out that businesses can target customers already on their list through Facebook but your contact details are not directly shared.  To ensure your privacy, Facebook hashes the list of contacts that a particular business uploads for advertising before it gets used.  Facebook hashes contact information it already has of its own users before comparing with the hashed list from the business to see if there is a match.  (https://www.facebook.com/help/597339877966751)\n",
    "\n",
    "**5.6.1: Hashing**\n",
    "<br>Suppose your email address is punk_rocker@email.com  \n",
    "[This article](https://3qdigital.com/wp-content/uploads/2016/06/facebook_audiences_data_security_overview.pdf ) suggests that Facebook uses the SHA-256 hashing algorithm. What would the hashed fingerprint of your email address be?  \n",
    "\n",
    "<span style= 'float: right;'><b>[2 marks]</b></span>"
   ]
  },
  {
   "cell_type": "code",
   "execution_count": 121,
   "metadata": {},
   "outputs": [
    {
     "data": {
      "text/plain": [
       "b'\\x0fF\\xc2\\x19\\xc6\\x9d\\x85\\xc4^\\x15\\xe9\\xa0\\x91\\xf5\\xd7\\xdc\\xdebye\\x9e\\x83a\\xb5\\xe4h$d\\xcdF\\xb8\\xe3'"
      ]
     },
     "execution_count": 121,
     "metadata": {},
     "output_type": "execute_result"
    }
   ],
   "source": [
    "# YOUR CODE HERE\n",
    "m = hashlib.sha256()\n",
    "m.update(b\"punk_rocker@email.com\")\n",
    "m.digest()"
   ]
  },
  {
   "cell_type": "raw",
   "metadata": {},
   "source": [
    "# YOUR RESPONSE HERE\n",
    "The hashed fingerprint of the email address is:\n",
    "\\x0fF\\xc2\\x19\\xc6\\x9d\\x85\\xc4^\\x15\\xe9\\xa0\\x91\\xf5\\xd7\\xdc\\xdebye\\x9e\\x83a\\xb5\\xe4h$d\\xcdF\\xb8\\xe3"
   ]
  },
  {
   "cell_type": "markdown",
   "metadata": {},
   "source": [
    "**5.6.2: Reflection**\n",
    "<br>Reflect on how it makes you feel about getting targeted in this manner by a business you gave your details to?\n",
    "You can consider human, ethics, privacy and security aspects (but you are welcome to raise additional points) in your reflection.\n",
    "<span style= 'float: right;'><b>[1 mark]</b></span>"
   ]
  },
  {
   "cell_type": "raw",
   "metadata": {},
   "source": [
    "# YOUR RESPONSE HERE\n",
    "While sharing information between different companies can be convenient for users, it can also directly leak their personal information.\n",
    "Companies hold fun quizzes like \"Superhero\" to get attention and even personal information from users. \n",
    "Although fun quizzes are more interesting than questionnaires, behind the fun is the cold company's desire for user data. \n",
    "Hashing users' information before sharing it is a compromise, and users should know what information is stored and what information is shared."
   ]
  }
 ],
 "metadata": {
  "kernelspec": {
   "display_name": "Python 3 (ipykernel)",
   "language": "python",
   "name": "python3"
  },
  "language_info": {
   "codemirror_mode": {
    "name": "ipython",
    "version": 3
   },
   "file_extension": ".py",
   "mimetype": "text/x-python",
   "name": "python",
   "nbconvert_exporter": "python",
   "pygments_lexer": "ipython3",
   "version": "3.9.7"
  }
 },
 "nbformat": 4,
 "nbformat_minor": 4
}
